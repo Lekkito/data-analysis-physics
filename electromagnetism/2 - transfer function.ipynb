{
 "cells": [
  {
   "cell_type": "code",
   "execution_count": null,
   "metadata": {},
   "outputs": [],
   "source": [
    "import numpy as np\n",
    "import pandas as pd\n",
    "import matplotlib.pyplot as plt\n",
    "from uncertainties import ufloat\n",
    "import uncertainties.unumpy as unumpy\n",
    "import scipy.odr as ODR"
   ]
  },
  {
   "cell_type": "markdown",
   "metadata": {},
   "source": [
    "# Experimento 1"
   ]
  },
  {
   "cell_type": "code",
   "execution_count": null,
   "metadata": {},
   "outputs": [],
   "source": [
    "datos1 = pd.DataFrame(columns=['frec', 'vi', 'vo', 'dt', 'errvo', 'nodo'])"
   ]
  },
  {
   "cell_type": "code",
   "execution_count": null,
   "metadata": {},
   "outputs": [],
   "source": [
    "\n",
    "# Función para agregar datos al DataFrame\n",
    "def nuevo_dato(dataframe, datos):\n",
    "    nuevo_df = pd.DataFrame([datos], columns=dataframe.columns)\n",
    "    return pd.concat([dataframe, nuevo_df], ignore_index=True)\n",
    "\n",
    "# Función para borrar datos del DataFrame\n",
    "def borrar_dato(dataframe, indice):\n",
    "\n",
    "    return dataframe.drop(index=indice).reset_index(drop=True)\n"
   ]
  },
  {
   "cell_type": "markdown",
   "metadata": {},
   "source": [
    "## Agregando datos"
   ]
  },
  {
   "cell_type": "code",
   "execution_count": null,
   "metadata": {},
   "outputs": [],
   "source": [
    "# Columnas del dataframe:   'frec', 'vi', 'vo', 'dt', 'errvo'\n",
    "datos1 = nuevo_dato(datos1, [1.0, 1.0, 1.0, 1.00, 1.00, 6.0])\n",
    "datos1 = nuevo_dato(datos1, [2.0, 2.0, 2.0, 2.00, 2.00, 5.0])\n",
    "datos1 = nuevo_dato(datos1, [0.0, 0.0, 0.0, 0.00, 0.00, 6.0])\n",
    "datos1 = nuevo_dato(datos1, [0.0, 0.0, 0.0, 0.00, 0.00, 6.0])\n",
    "datos1 = nuevo_dato(datos1, [0.0, 0.0, 0.0, 0.00, 0.00, 6.0])\n",
    "datos1 = nuevo_dato(datos1, [0.0, 0.0, 0.0, 0.00, 0.00, 6.0])\n",
    "datos1 = nuevo_dato(datos1, [0.0, 0.0, 0.0, 0.00, 0.00, 6.0])"
   ]
  },
  {
   "cell_type": "code",
   "execution_count": null,
   "metadata": {},
   "outputs": [],
   "source": [
    "# Borrar todos los datos del dataframe (por si es necesario para reiniciar)\n",
    "#datos1 = datos1.iloc[0:0]"
   ]
  },
  {
   "cell_type": "code",
   "execution_count": null,
   "metadata": {},
   "outputs": [],
   "source": [
    "datos1"
   ]
  },
  {
   "cell_type": "markdown",
   "metadata": {},
   "source": [
    "## Defino nuevas columnas "
   ]
  },
  {
   "cell_type": "code",
   "execution_count": null,
   "metadata": {},
   "outputs": [],
   "source": [
    "#def calc_err(Vi, Vo, Vi_err, Vo_err):\n",
    "#  return np.sqrt((Vo_err/Vi)**2 + (Vi_err*Vo/(Vi)**2)**2)"
   ]
  },
  {
   "cell_type": "code",
   "execution_count": null,
   "metadata": {},
   "outputs": [],
   "source": [
    "datos1['vo/vi'] = datos1['vo'] / datos1['vi']\n",
    "datos1['errvi'] = datos1['vi'] * 0.05\n",
    "#datos1['err_vo/vi'] = calc_err(datos1['vi'], datos1['vo'], datos1['errvi'], datos1['errvo'])\n",
    "datos1['fase'] = 2 * np.pi * datos1['frec'] * datos1['dt']"
   ]
  },
  {
   "cell_type": "code",
   "execution_count": null,
   "metadata": {},
   "outputs": [],
   "source": [
    "# Calculo err_vo/vi con ufloat\n",
    "def calculate_err_vovi(row):\n",
    "\tif row['vi'] != 0:  # Que no divida por cero\n",
    "\t\treturn round((ufloat(row['vo'], row['errvo']) / ufloat(row['vi'], row['errvi'])).std_dev, 2)\n",
    "\telse:\n",
    "\t\treturn np.nan\n",
    "\n",
    "datos1['err_vo/vi'] = datos1.apply(calculate_err_vovi, axis=1)"
   ]
  },
  {
   "cell_type": "code",
   "execution_count": null,
   "metadata": {},
   "outputs": [],
   "source": [
    "datos1"
   ]
  },
  {
   "cell_type": "markdown",
   "metadata": {},
   "source": [
    "## Diagrama de Bode (Amplitud)"
   ]
  },
  {
   "cell_type": "markdown",
   "metadata": {},
   "source": [
    "### Ajuste"
   ]
  },
  {
   "cell_type": "code",
   "execution_count": null,
   "metadata": {},
   "outputs": [],
   "source": [
    "x = datos1['frec']\n",
    "y = datos1['vo/vi']\n",
    "xerr = datos1['frec'] * 0.05\n",
    "yerr = datos1['err_vo/vi']"
   ]
  },
  {
   "cell_type": "code",
   "execution_count": null,
   "metadata": {},
   "outputs": [],
   "source": [
    "def Ajuste(B, f):\n",
    "  return 2*np.pi*f*B/(np.sqrt(1+(2*np.pi*f*B)**2))\n",
    "\n",
    "func = ODR.Model(Ajuste)\n",
    "data_real = ODR.RealData(x, y, xerr, yerr)\n",
    "odr = ODR.ODR(data_real, func,beta0=[0.0001])\n",
    "out = odr.run()\n",
    "\n",
    "Aj = out.beta\n",
    "Aj_err = out.sd_beta\n",
    "\n",
    "tau=ufloat(Aj[0],Aj_err[0])\n",
    "print(\"Tau es\", tau.nominal_value, \"+-\", tau.std_dev, \"s\")\n",
    "print(f\"Tau = {tau:.5e} s\")\n"
   ]
  },
  {
   "cell_type": "markdown",
   "metadata": {},
   "source": [
    "### Ploteo"
   ]
  },
  {
   "cell_type": "code",
   "execution_count": null,
   "metadata": {},
   "outputs": [],
   "source": [
    "fig, ax = plt.subplots(figsize=(10, 6))\n",
    "scatter = ax.scatter(x, y, c=datos1['nodo'], cmap='viridis', zorder=4, label=\"Datos\")\n",
    "ax.errorbar(x, y, xerr=xerr, yerr=yerr, fmt=\"none\", ecolor=\"red\", zorder=3, capsize=5)\n",
    "plt.colorbar(scatter, ax=ax, label='Nodo')  # Agregar barra de color para referencia\n",
    "#ax.errorbar(x, y, xerr=xerr, yerr=yerr, fmt=\"bo\",\n",
    "#            ecolor= \"red\", zorder=4, label=\"Datos\",capsize=5)\n",
    "ax.plot(np.logspace(1, np.log10(2*(10**6))), Ajuste(Aj[0], np.logspace(1, np.log10(2*(10**6)))), \"-\", color='green', zorder=3, label='Ajuste')\n",
    "ax.plot(np.logspace(1, np.log10(2*(10**6))), Ajuste(1e-4, np.logspace(1, np.log10(2*(10**6)))), \"-\", color='teal', label=\"Modelo\")\n",
    "ax.set_xscale(\"log\")\n",
    "ax.set_yscale(\"log\")\n",
    "ax.grid(True, linestyle='--', alpha=0.7)\n",
    "ax.legend(fontsize=17)\n",
    "plt.xticks(fontsize='16')\n",
    "plt.yticks(fontsize='16')\n",
    "\n",
    "ax.set_xlabel(\"Frecuencia (Hz)\", fontsize=18)\n",
    "ax.set_ylabel(r\"|H($\\omega$)|\", fontsize=18) #Sería más correcto usar H(f), los datos son de frecuencia, no frecuencia angular\n",
    "ax.set_title(\"Diagrama de Bode (Amplitud)\", fontsize=21)\n",
    "\n",
    "plt.tight_layout()"
   ]
  },
  {
   "cell_type": "markdown",
   "metadata": {},
   "source": [
    "## Diagrama de Bode (Fase)"
   ]
  },
  {
   "cell_type": "markdown",
   "metadata": {},
   "source": [
    "### Ajuste"
   ]
  },
  {
   "cell_type": "code",
   "execution_count": null,
   "metadata": {},
   "outputs": [],
   "source": [
    "x2 = datos1['frec']\n",
    "y2 = datos1['fase']\n",
    "xerr2 = datos1['frec'] * 0.05\n",
    "yerr2 = datos1['fase'] * 0.05"
   ]
  },
  {
   "cell_type": "code",
   "execution_count": null,
   "metadata": {},
   "outputs": [],
   "source": [
    "def Ajuste(B, f):\n",
    "  return np.arctan(1/(B*2*np.pi*f))\n",
    "\n",
    "func = ODR.Model(Ajuste)\n",
    "data_real = ODR.RealData(x2, y2, xerr2, yerr2)\n",
    "odr = ODR.ODR(data_real, func,beta0=[0.0001])\n",
    "out = odr.run()\n",
    "\n",
    "Aj = out.beta\n",
    "Aj_err = out.sd_beta\n",
    "\n",
    "tau=ufloat(Aj[0],Aj_err[0])\n",
    "print(\"Tau es\", Aj[0], \"s\")\n",
    "print(f\"Tau = {tau:.4e} s\")"
   ]
  },
  {
   "cell_type": "markdown",
   "metadata": {},
   "source": [
    "### Ploteo"
   ]
  },
  {
   "cell_type": "code",
   "execution_count": null,
   "metadata": {},
   "outputs": [],
   "source": [
    "fig, ax = plt.subplots(figsize=(10, 6))\n",
    "ax.errorbar(x2, y2, xerr = xerr2, yerr = yerr2, fmt=\"bo\",\n",
    "            ecolor= \"red\", zorder=4, label=\"Datos\",capsize=5)\n",
    "ax.plot(np.logspace(1, np.log10(2*(10**6))), Ajuste(Aj[0], np.logspace(1, np.log10(2*(10**6)))), \"-\", color='green', zorder=3, label='Ajuste')\n",
    "ax.plot(np.logspace(1, np.log10(2*(10**6))), Ajuste(1e-4, np.logspace(1, np.log10(2*(10**6)))), \"-\", color='teal', label=\"Modelo\")\n",
    "\n",
    "ax.set_xscale(\"log\")\n",
    "ax.grid(True, linestyle='--', alpha=0.7)\n",
    "ax.legend(fontsize=17)\n",
    "plt.xticks(fontsize='16')\n",
    "plt.yticks(fontsize='16')\n",
    "\n",
    "ax.set_xlabel(\"Frecuencia (Hz)\", fontsize=18)\n",
    "ax.set_ylabel(\"Fase (rad)\", fontsize=18)\n",
    "ax.set_title(\"Diagrama de Bode (Fase)\", fontsize=21)\n",
    "\n",
    "plt.tight_layout()"
   ]
  },
  {
   "cell_type": "markdown",
   "metadata": {},
   "source": [
    "## Diagrama de Nyquist"
   ]
  },
  {
   "cell_type": "code",
   "execution_count": null,
   "metadata": {},
   "outputs": [],
   "source": [
    "uy = unumpy.uarray(y, yerr)\n",
    "uy2 = unumpy.uarray(y2, yerr2)\n",
    "\n",
    "ReH = uy[1:] * unumpy.cos(uy2[1:])\n",
    "ImH = uy[1:] * unumpy.sin(uy2[1:])\n",
    "\n",
    "cen_ReH = unumpy.nominal_values(ReH)\n",
    "cen_ImH = unumpy.nominal_values(ImH)\n",
    "\n",
    "err_ReH = unumpy.std_devs(ReH)\n",
    "err_ImH = unumpy.std_devs(ImH)"
   ]
  },
  {
   "cell_type": "markdown",
   "metadata": {},
   "source": [
    "### Ploteo"
   ]
  },
  {
   "cell_type": "code",
   "execution_count": null,
   "metadata": {},
   "outputs": [],
   "source": [
    "fig, ax = plt.subplots(figsize=(10, 6))\n",
    "ax.errorbar(cen_ReH, cen_ImH, xerr= err_ReH, yerr= err_ImH, fmt=\"ro\", label='Datos', ecolor ='black', capsize=5)\n",
    "\n",
    "ax.set_xlabel(\"Re(H)\", fontsize=18)\n",
    "ax.set_ylabel('Im(H)', fontsize=18)\n",
    "ax.set_title(\"Diagrama de Nyquist\", fontsize=21)\n",
    "\n",
    "ax.grid()\n",
    "ax.legend(fontsize=17)\n",
    "plt.xticks(fontsize='16')\n",
    "plt.yticks(fontsize='16')\n",
    "\n",
    "plt.tight_layout()\n",
    "plt.show()"
   ]
  }
 ],
 "metadata": {
  "kernelspec": {
   "display_name": "Python 3",
   "language": "python",
   "name": "python3"
  },
  "language_info": {
   "codemirror_mode": {
    "name": "ipython",
    "version": 3
   },
   "file_extension": ".py",
   "mimetype": "text/x-python",
   "name": "python",
   "nbconvert_exporter": "python",
   "pygments_lexer": "ipython3",
   "version": "3.12.6"
  }
 },
 "nbformat": 4,
 "nbformat_minor": 2
}
