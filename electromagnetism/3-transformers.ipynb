{
 "cells": [
  {
   "cell_type": "code",
   "execution_count": 59,
   "id": "705f5add",
   "metadata": {},
   "outputs": [],
   "source": [
    "import pandas as pd\n",
    "import numpy as np\n",
    "import matplotlib.pyplot as plt\n",
    "import seaborn as sns\n",
    "import uncertainties as unc\n",
    "import uncertainties.unumpy as unumpy"
   ]
  },
  {
   "cell_type": "code",
   "execution_count": 3,
   "id": "01e89cd6",
   "metadata": {},
   "outputs": [
    {
     "data": {
      "application/vnd.microsoft.datawrangler.viewer.v0+json": {
       "columns": [
        {
         "name": "index",
         "rawType": "int64",
         "type": "integer"
        },
        {
         "name": "d",
         "rawType": "float64",
         "type": "float"
        },
        {
         "name": "n",
         "rawType": "int64",
         "type": "integer"
        },
        {
         "name": "Vi",
         "rawType": "float64",
         "type": "float"
        },
        {
         "name": "Vo",
         "rawType": "float64",
         "type": "float"
        },
        {
         "name": "dt",
         "rawType": "float64",
         "type": "float"
        }
       ],
       "conversionMethod": "pd.DataFrame",
       "ref": "11463961-58a3-4f42-8e29-4b89bc872035",
       "rows": [
        [
         "0",
         "0.0",
         "0",
         "5.6",
         "776.0",
         "-0.6"
        ],
        [
         "1",
         "1.62",
         "1",
         "5.49",
         "724.5",
         "0.24"
        ],
        [
         "2",
         "1.62",
         "2",
         "5.4",
         "655.9",
         "0.28"
        ],
        [
         "3",
         "1.6",
         "3",
         "5.33",
         "590.0",
         "0.8"
        ],
        [
         "4",
         "1.6",
         "4",
         "5.3",
         "530.0",
         "1.24"
        ],
        [
         "5",
         "1.62",
         "5",
         "5.27",
         "482.0",
         "1.64"
        ],
        [
         "6",
         "1.62",
         "6",
         "5.26",
         "441.0",
         "2.0"
        ],
        [
         "7",
         "1.62",
         "7",
         "5.26",
         "406.0",
         "2.32"
        ],
        [
         "8",
         "1.62",
         "8",
         "5.25",
         "373.0",
         "2.6"
        ],
        [
         "9",
         "1.62",
         "9",
         "5.25",
         "344.0",
         "2.84"
        ],
        [
         "10",
         "1.62",
         "10",
         "5.26",
         "318.0",
         "3.2"
        ]
       ],
       "shape": {
        "columns": 5,
        "rows": 11
       }
      },
      "text/html": [
       "<div>\n",
       "<style scoped>\n",
       "    .dataframe tbody tr th:only-of-type {\n",
       "        vertical-align: middle;\n",
       "    }\n",
       "\n",
       "    .dataframe tbody tr th {\n",
       "        vertical-align: top;\n",
       "    }\n",
       "\n",
       "    .dataframe thead th {\n",
       "        text-align: right;\n",
       "    }\n",
       "</style>\n",
       "<table border=\"1\" class=\"dataframe\">\n",
       "  <thead>\n",
       "    <tr style=\"text-align: right;\">\n",
       "      <th></th>\n",
       "      <th>d</th>\n",
       "      <th>n</th>\n",
       "      <th>Vi</th>\n",
       "      <th>Vo</th>\n",
       "      <th>dt</th>\n",
       "    </tr>\n",
       "  </thead>\n",
       "  <tbody>\n",
       "    <tr>\n",
       "      <th>0</th>\n",
       "      <td>0.00</td>\n",
       "      <td>0</td>\n",
       "      <td>5.60</td>\n",
       "      <td>776.0</td>\n",
       "      <td>-0.60</td>\n",
       "    </tr>\n",
       "    <tr>\n",
       "      <th>1</th>\n",
       "      <td>1.62</td>\n",
       "      <td>1</td>\n",
       "      <td>5.49</td>\n",
       "      <td>724.5</td>\n",
       "      <td>0.24</td>\n",
       "    </tr>\n",
       "    <tr>\n",
       "      <th>2</th>\n",
       "      <td>1.62</td>\n",
       "      <td>2</td>\n",
       "      <td>5.40</td>\n",
       "      <td>655.9</td>\n",
       "      <td>0.28</td>\n",
       "    </tr>\n",
       "    <tr>\n",
       "      <th>3</th>\n",
       "      <td>1.60</td>\n",
       "      <td>3</td>\n",
       "      <td>5.33</td>\n",
       "      <td>590.0</td>\n",
       "      <td>0.80</td>\n",
       "    </tr>\n",
       "    <tr>\n",
       "      <th>4</th>\n",
       "      <td>1.60</td>\n",
       "      <td>4</td>\n",
       "      <td>5.30</td>\n",
       "      <td>530.0</td>\n",
       "      <td>1.24</td>\n",
       "    </tr>\n",
       "    <tr>\n",
       "      <th>5</th>\n",
       "      <td>1.62</td>\n",
       "      <td>5</td>\n",
       "      <td>5.27</td>\n",
       "      <td>482.0</td>\n",
       "      <td>1.64</td>\n",
       "    </tr>\n",
       "    <tr>\n",
       "      <th>6</th>\n",
       "      <td>1.62</td>\n",
       "      <td>6</td>\n",
       "      <td>5.26</td>\n",
       "      <td>441.0</td>\n",
       "      <td>2.00</td>\n",
       "    </tr>\n",
       "    <tr>\n",
       "      <th>7</th>\n",
       "      <td>1.62</td>\n",
       "      <td>7</td>\n",
       "      <td>5.26</td>\n",
       "      <td>406.0</td>\n",
       "      <td>2.32</td>\n",
       "    </tr>\n",
       "    <tr>\n",
       "      <th>8</th>\n",
       "      <td>1.62</td>\n",
       "      <td>8</td>\n",
       "      <td>5.25</td>\n",
       "      <td>373.0</td>\n",
       "      <td>2.60</td>\n",
       "    </tr>\n",
       "    <tr>\n",
       "      <th>9</th>\n",
       "      <td>1.62</td>\n",
       "      <td>9</td>\n",
       "      <td>5.25</td>\n",
       "      <td>344.0</td>\n",
       "      <td>2.84</td>\n",
       "    </tr>\n",
       "    <tr>\n",
       "      <th>10</th>\n",
       "      <td>1.62</td>\n",
       "      <td>10</td>\n",
       "      <td>5.26</td>\n",
       "      <td>318.0</td>\n",
       "      <td>3.20</td>\n",
       "    </tr>\n",
       "  </tbody>\n",
       "</table>\n",
       "</div>"
      ],
      "text/plain": [
       "       d   n    Vi     Vo    dt\n",
       "0   0.00   0  5.60  776.0 -0.60\n",
       "1   1.62   1  5.49  724.5  0.24\n",
       "2   1.62   2  5.40  655.9  0.28\n",
       "3   1.60   3  5.33  590.0  0.80\n",
       "4   1.60   4  5.30  530.0  1.24\n",
       "5   1.62   5  5.27  482.0  1.64\n",
       "6   1.62   6  5.26  441.0  2.00\n",
       "7   1.62   7  5.26  406.0  2.32\n",
       "8   1.62   8  5.25  373.0  2.60\n",
       "9   1.62   9  5.25  344.0  2.84\n",
       "10  1.62  10  5.26  318.0  3.20"
      ]
     },
     "execution_count": 3,
     "metadata": {},
     "output_type": "execute_result"
    }
   ],
   "source": [
    "\n",
    "data = {\n",
    "    'd': [0, 1.62, 1.62, 1.60, 1.60, 1.62, 1.62, 1.62, 1.62, 1.62, 1.62],\n",
    "    'n': [0, 1, 2, 3, 4, 5, 6, 7, 8, 9, 10],\n",
    "    'Vi': [5.6, 5.49, 5.4, 5.33, 5.3, 5.27, 5.26, 5.26, 5.25, 5.25, 5.26],\n",
    "    'Vo': [776, 724.5, 655.9, 590, 530, 482, 441, 406, 373, 344, 318],\n",
    "    'dt': [-0.6, 0.24, 0.28, 0.8, 1.24, 1.64, 2.0, 2.32, 2.6, 2.84, 3.2]\n",
    "}\n",
    "\n",
    "df = pd.DataFrame(data)\n",
    "df\n"
   ]
  },
  {
   "cell_type": "code",
   "execution_count": 89,
   "id": "c14f101c",
   "metadata": {},
   "outputs": [],
   "source": [
    "df['d'] = df['d']/1000\n",
    "df['Vo'] = df['Vo']/1000\n",
    "df['dt'] = df['dt']/1000"
   ]
  },
  {
   "cell_type": "code",
   "execution_count": 9,
   "id": "c7156254",
   "metadata": {},
   "outputs": [
    {
     "data": {
      "application/vnd.microsoft.datawrangler.viewer.v0+json": {
       "columns": [
        {
         "name": "index",
         "rawType": "int64",
         "type": "integer"
        },
        {
         "name": "d",
         "rawType": "float64",
         "type": "float"
        },
        {
         "name": "n",
         "rawType": "int64",
         "type": "integer"
        },
        {
         "name": "Vi",
         "rawType": "float64",
         "type": "float"
        },
        {
         "name": "Vo",
         "rawType": "float64",
         "type": "float"
        },
        {
         "name": "dt",
         "rawType": "float64",
         "type": "float"
        }
       ],
       "conversionMethod": "pd.DataFrame",
       "ref": "3f217fce-e814-4f14-b6c7-6a4cd9cf35bf",
       "rows": [
        [
         "0",
         "0.0",
         "0",
         "5.6",
         "0.776",
         "-0.0006"
        ],
        [
         "1",
         "1.6200000000000002e-06",
         "1",
         "5.49",
         "0.7245",
         "0.00023999999999999998"
        ],
        [
         "2",
         "1.6200000000000002e-06",
         "2",
         "5.4",
         "0.6558999999999999",
         "0.00028000000000000003"
        ],
        [
         "3",
         "1.6000000000000001e-06",
         "3",
         "5.33",
         "0.59",
         "0.0008"
        ],
        [
         "4",
         "1.6000000000000001e-06",
         "4",
         "5.3",
         "0.53",
         "0.00124"
        ],
        [
         "5",
         "1.6200000000000002e-06",
         "5",
         "5.27",
         "0.482",
         "0.00164"
        ],
        [
         "6",
         "1.6200000000000002e-06",
         "6",
         "5.26",
         "0.441",
         "0.002"
        ],
        [
         "7",
         "1.6200000000000002e-06",
         "7",
         "5.26",
         "0.406",
         "0.00232"
        ],
        [
         "8",
         "1.6200000000000002e-06",
         "8",
         "5.25",
         "0.373",
         "0.0026"
        ],
        [
         "9",
         "1.6200000000000002e-06",
         "9",
         "5.25",
         "0.344",
         "0.0028399999999999996"
        ],
        [
         "10",
         "1.6200000000000002e-06",
         "10",
         "5.26",
         "0.318",
         "0.0032"
        ]
       ],
       "shape": {
        "columns": 5,
        "rows": 11
       }
      },
      "text/html": [
       "<div>\n",
       "<style scoped>\n",
       "    .dataframe tbody tr th:only-of-type {\n",
       "        vertical-align: middle;\n",
       "    }\n",
       "\n",
       "    .dataframe tbody tr th {\n",
       "        vertical-align: top;\n",
       "    }\n",
       "\n",
       "    .dataframe thead th {\n",
       "        text-align: right;\n",
       "    }\n",
       "</style>\n",
       "<table border=\"1\" class=\"dataframe\">\n",
       "  <thead>\n",
       "    <tr style=\"text-align: right;\">\n",
       "      <th></th>\n",
       "      <th>d</th>\n",
       "      <th>n</th>\n",
       "      <th>Vi</th>\n",
       "      <th>Vo</th>\n",
       "      <th>dt</th>\n",
       "    </tr>\n",
       "  </thead>\n",
       "  <tbody>\n",
       "    <tr>\n",
       "      <th>0</th>\n",
       "      <td>0.000000</td>\n",
       "      <td>0</td>\n",
       "      <td>5.60</td>\n",
       "      <td>0.7760</td>\n",
       "      <td>-0.00060</td>\n",
       "    </tr>\n",
       "    <tr>\n",
       "      <th>1</th>\n",
       "      <td>0.000002</td>\n",
       "      <td>1</td>\n",
       "      <td>5.49</td>\n",
       "      <td>0.7245</td>\n",
       "      <td>0.00024</td>\n",
       "    </tr>\n",
       "    <tr>\n",
       "      <th>2</th>\n",
       "      <td>0.000002</td>\n",
       "      <td>2</td>\n",
       "      <td>5.40</td>\n",
       "      <td>0.6559</td>\n",
       "      <td>0.00028</td>\n",
       "    </tr>\n",
       "    <tr>\n",
       "      <th>3</th>\n",
       "      <td>0.000002</td>\n",
       "      <td>3</td>\n",
       "      <td>5.33</td>\n",
       "      <td>0.5900</td>\n",
       "      <td>0.00080</td>\n",
       "    </tr>\n",
       "    <tr>\n",
       "      <th>4</th>\n",
       "      <td>0.000002</td>\n",
       "      <td>4</td>\n",
       "      <td>5.30</td>\n",
       "      <td>0.5300</td>\n",
       "      <td>0.00124</td>\n",
       "    </tr>\n",
       "    <tr>\n",
       "      <th>5</th>\n",
       "      <td>0.000002</td>\n",
       "      <td>5</td>\n",
       "      <td>5.27</td>\n",
       "      <td>0.4820</td>\n",
       "      <td>0.00164</td>\n",
       "    </tr>\n",
       "    <tr>\n",
       "      <th>6</th>\n",
       "      <td>0.000002</td>\n",
       "      <td>6</td>\n",
       "      <td>5.26</td>\n",
       "      <td>0.4410</td>\n",
       "      <td>0.00200</td>\n",
       "    </tr>\n",
       "    <tr>\n",
       "      <th>7</th>\n",
       "      <td>0.000002</td>\n",
       "      <td>7</td>\n",
       "      <td>5.26</td>\n",
       "      <td>0.4060</td>\n",
       "      <td>0.00232</td>\n",
       "    </tr>\n",
       "    <tr>\n",
       "      <th>8</th>\n",
       "      <td>0.000002</td>\n",
       "      <td>8</td>\n",
       "      <td>5.25</td>\n",
       "      <td>0.3730</td>\n",
       "      <td>0.00260</td>\n",
       "    </tr>\n",
       "    <tr>\n",
       "      <th>9</th>\n",
       "      <td>0.000002</td>\n",
       "      <td>9</td>\n",
       "      <td>5.25</td>\n",
       "      <td>0.3440</td>\n",
       "      <td>0.00284</td>\n",
       "    </tr>\n",
       "    <tr>\n",
       "      <th>10</th>\n",
       "      <td>0.000002</td>\n",
       "      <td>10</td>\n",
       "      <td>5.26</td>\n",
       "      <td>0.3180</td>\n",
       "      <td>0.00320</td>\n",
       "    </tr>\n",
       "  </tbody>\n",
       "</table>\n",
       "</div>"
      ],
      "text/plain": [
       "           d   n    Vi      Vo       dt\n",
       "0   0.000000   0  5.60  0.7760 -0.00060\n",
       "1   0.000002   1  5.49  0.7245  0.00024\n",
       "2   0.000002   2  5.40  0.6559  0.00028\n",
       "3   0.000002   3  5.33  0.5900  0.00080\n",
       "4   0.000002   4  5.30  0.5300  0.00124\n",
       "5   0.000002   5  5.27  0.4820  0.00164\n",
       "6   0.000002   6  5.26  0.4410  0.00200\n",
       "7   0.000002   7  5.26  0.4060  0.00232\n",
       "8   0.000002   8  5.25  0.3730  0.00260\n",
       "9   0.000002   9  5.25  0.3440  0.00284\n",
       "10  0.000002  10  5.26  0.3180  0.00320"
      ]
     },
     "execution_count": 9,
     "metadata": {},
     "output_type": "execute_result"
    }
   ],
   "source": [
    "df"
   ]
  },
  {
   "cell_type": "code",
   "execution_count": 90,
   "id": "3dcdc9a0",
   "metadata": {},
   "outputs": [],
   "source": [
    "frec=50.2\n",
    "df['vo/vi'] = df['Vo']/df['Vi']\n",
    "df['fase'] = 2*np.pi*frec*df['dt']\n",
    "# Crear la fila 'h' que es la suma de las columnas anteriores  de 'd'\n",
    "df['h'] = df['d'].cumsum()\n",
    "errd = 0.02/1000\n",
    "errVi = 0.01\n",
    "errVo = 0.01\n",
    "errdt = 0.01/1000\n",
    "\n",
    "#df['err_vo/vi'] = df.apply(lambda row: unc.ufloat(row['Vo'], errVo) / unc.ufloat(row['Vi'], errVi), axis=1).apply(lambda x: x.s)\n",
    "#df['err_fase'] = df.apply(lambda row: 2*np.pi*frec*unc.ufloat(row['dt'], errdt), axis=1).apply(lambda x: x.s)\n",
    "\n",
    "\n",
    "\n",
    "df['err_h'] = (df['n'])*errd"
   ]
  },
  {
   "cell_type": "code",
   "execution_count": 91,
   "id": "ab51e243",
   "metadata": {},
   "outputs": [],
   "source": [
    "# Calcular err_vo/vi utilizando incertidumbres\n",
    "df['vo_with_err'] = unumpy.uarray(df['Vo'], errVo)\n",
    "df['vi_with_err'] = unumpy.uarray(df['Vi'], errVi)\n",
    "vo_vi_with_err = df['vo_with_err'] / df['vi_with_err']\n",
    "df['err_vo/vi'] = unumpy.std_devs(vo_vi_with_err)\n",
    "\n",
    "# Calcular err_fase utilizando incertidumbres\n",
    "dt_with_err = unumpy.uarray(df['dt'], errdt)\n",
    "fase_with_err = 2 * np.pi * frec * dt_with_err\n",
    "df['err_fase'] = unumpy.std_devs(fase_with_err)\n"
   ]
  },
  {
   "cell_type": "code",
   "execution_count": 80,
   "id": "f3718e17",
   "metadata": {},
   "outputs": [
    {
     "data": {
      "text/plain": [
       "0.1385714285714286+/-0.0018027774426437456"
      ]
     },
     "execution_count": 80,
     "metadata": {},
     "output_type": "execute_result"
    }
   ],
   "source": [
    "unumpy.uarray(df['Vo'][0], errVo) / unumpy.uarray(df['Vi'][0], errVi)"
   ]
  },
  {
   "cell_type": "code",
   "execution_count": 77,
   "id": "dec151b3",
   "metadata": {},
   "outputs": [
    {
     "data": {
      "text/plain": [
       "0.1385714285714286+/-0.0018027774426437456"
      ]
     },
     "execution_count": 77,
     "metadata": {},
     "output_type": "execute_result"
    }
   ],
   "source": [
    "from uncertainties import ufloat\n",
    "\n",
    "v0 = ufloat(776/1000, 0.01)\n",
    "vi = ufloat(5.6, 0.01)\n",
    "v0/vi"
   ]
  },
  {
   "cell_type": "code",
   "execution_count": 72,
   "id": "bcc289e4",
   "metadata": {},
   "outputs": [
    {
     "data": {
      "application/vnd.microsoft.datawrangler.viewer.v0+json": {
       "columns": [
        {
         "name": "index",
         "rawType": "int64",
         "type": "integer"
        },
        {
         "name": "d",
         "rawType": "float64",
         "type": "float"
        },
        {
         "name": "n",
         "rawType": "int64",
         "type": "integer"
        },
        {
         "name": "Vi",
         "rawType": "float64",
         "type": "float"
        },
        {
         "name": "Vo",
         "rawType": "float64",
         "type": "float"
        },
        {
         "name": "dt",
         "rawType": "float64",
         "type": "float"
        },
        {
         "name": "vo/vi",
         "rawType": "float64",
         "type": "float"
        },
        {
         "name": "fase",
         "rawType": "float64",
         "type": "float"
        },
        {
         "name": "h",
         "rawType": "float64",
         "type": "float"
        },
        {
         "name": "ReH",
         "rawType": "float64",
         "type": "float"
        },
        {
         "name": "ImH",
         "rawType": "float64",
         "type": "float"
        },
        {
         "name": "err_vo/vi",
         "rawType": "float64",
         "type": "float"
        },
        {
         "name": "err_fase",
         "rawType": "float64",
         "type": "float"
        },
        {
         "name": "err_h",
         "rawType": "float64",
         "type": "float"
        },
        {
         "name": "vo_with_err",
         "rawType": "object",
         "type": "unknown"
        },
        {
         "name": "vi_with_err",
         "rawType": "object",
         "type": "unknown"
        },
        {
         "name": "d_with_err",
         "rawType": "object",
         "type": "unknown"
        }
       ],
       "conversionMethod": "pd.DataFrame",
       "ref": "daa61018-2b1d-4f65-8ce2-4e716d0d7f71",
       "rows": [
        [
         "0",
         "0.0",
         "0",
         "5.6",
         "0.776",
         "-0.0006",
         "0.1385714285714286",
         "-0.18924954145224912",
         "0.0",
         "0.13609733123843315",
         "-0.026068318820030266",
         "0.0003051536540877105",
         "0.0031541590242041527",
         "0.0",
         "0.7760+/-0.0010",
         "5.600+/-0.010",
         "(0.0+/-2.0)e-05"
        ],
        [
         "1",
         "1.6200000000000002e-06",
         "1",
         "5.49",
         "0.7245",
         "0.00023999999999999998",
         "0.1319672131147541",
         "0.07569981658089965",
         "1.6200000000000002e-06",
         "0.13158927708029008",
         "0.009980355442646647",
         "0.0003015952629704671",
         "0.0031541590242041527",
         "2e-05",
         "0.7245+/-0.0010",
         "5.490+/-0.010",
         "(0.2+/-2.0)e-05"
        ],
        [
         "2",
         "1.6200000000000002e-06",
         "2",
         "5.4",
         "0.6558999999999999",
         "0.00028000000000000003",
         "0.12146296296296294",
         "0.08831645267771628",
         "3.2400000000000003e-06",
         "0.12098957762040327",
         "0.01071323849162894",
         "0.0002913549267109302",
         "0.0031541590242041527",
         "4e-05",
         "0.6559+/-0.0010",
         "5.400+/-0.010",
         "(0.2+/-2.0)e-05"
        ],
        [
         "3",
         "1.6000000000000001e-06",
         "3",
         "5.33",
         "0.59",
         "0.0008",
         "0.11069418386491557",
         "0.2523327219363322",
         "4.84e-06",
         "0.10718879366114555",
         "0.027636295970844237",
         "0.0002798781853446893",
         "0.0031541590242041527",
         "6.000000000000001e-05",
         "0.5900+/-0.0010",
         "5.330+/-0.010",
         "(0.2+/-2.0)e-05"
        ],
        [
         "4",
         "1.6000000000000001e-06",
         "4",
         "5.3",
         "0.53",
         "0.00124",
         "0.1",
         "0.3911157190013149",
         "6.44e-06",
         "0.09244843008297869",
         "0.03812201168868979",
         "0.0002668327476175652",
         "0.0031541590242041527",
         "8e-05",
         "0.5300+/-0.0010",
         "5.300+/-0.010",
         "(0.2+/-2.0)e-05"
        ],
        [
         "5",
         "1.6200000000000002e-06",
         "5",
         "5.27",
         "0.482",
         "0.00164",
         "0.09146110056925996",
         "0.517282079969481",
         "8.06e-06",
         "0.07949492038457646",
         "0.04522931074414173",
         "0.00025714993728148536",
         "0.0031541590242041527",
         "0.0001",
         "0.4820+/-0.0010",
         "5.270+/-0.010",
         "(0.2+/-2.0)e-05"
        ],
        [
         "6",
         "1.6200000000000002e-06",
         "6",
         "5.26",
         "0.441",
         "0.002",
         "0.08384030418250951",
         "0.6308318048408306",
         "9.68e-06",
         "0.06770416242172561",
         "0.04945040946431403",
         "0.0002480911862034437",
         "0.0031541590242041527",
         "0.00012000000000000002",
         "0.4410+/-0.0010",
         "5.260+/-0.010",
         "(0.2+/-2.0)e-05"
        ],
        [
         "7",
         "1.6200000000000002e-06",
         "7",
         "5.26",
         "0.406",
         "0.00232",
         "0.07718631178707225",
         "0.7317648936153633",
         "1.13e-05",
         "0.05742632948811123",
         "0.05157463920197614",
         "0.0002401594982995649",
         "0.0031541590242041527",
         "0.00014000000000000001",
         "0.4060+/-0.0010",
         "5.260+/-0.010",
         "(0.2+/-2.0)e-05"
        ],
        [
         "8",
         "1.6200000000000002e-06",
         "8",
         "5.25",
         "0.373",
         "0.0026",
         "0.07104761904761905",
         "0.8200813462930796",
         "1.292e-05",
         "0.048465966652812845",
         "0.051950113077297876",
         "0.00023365586394690196",
         "0.0031541590242041527",
         "0.00016",
         "0.3730+/-0.0010",
         "5.250+/-0.010",
         "(0.2+/-2.0)e-05"
        ],
        [
         "9",
         "1.6200000000000002e-06",
         "9",
         "5.25",
         "0.344",
         "0.0028399999999999996",
         "0.06552380952380951",
         "0.8957811628739792",
         "1.454e-05",
         "0.0409464284572583",
         "0.05115427265739488",
         "0.0002277235832043698",
         "0.0031541590242041527",
         "0.00018",
         "0.3440+/-0.0010",
         "5.250+/-0.010",
         "(0.2+/-2.0)e-05"
        ],
        [
         "10",
         "1.6200000000000002e-06",
         "10",
         "5.26",
         "0.318",
         "0.0032",
         "0.06045627376425856",
         "1.0093308877453289",
         "1.616e-05",
         "0.03218856624565624",
         "0.05117477152374964",
         "0.0002221567372757928",
         "0.0031541590242041527",
         "0.0002",
         "0.3180+/-0.0010",
         "5.260+/-0.010",
         "(0.2+/-2.0)e-05"
        ]
       ],
       "shape": {
        "columns": 16,
        "rows": 11
       }
      },
      "text/html": [
       "<div>\n",
       "<style scoped>\n",
       "    .dataframe tbody tr th:only-of-type {\n",
       "        vertical-align: middle;\n",
       "    }\n",
       "\n",
       "    .dataframe tbody tr th {\n",
       "        vertical-align: top;\n",
       "    }\n",
       "\n",
       "    .dataframe thead th {\n",
       "        text-align: right;\n",
       "    }\n",
       "</style>\n",
       "<table border=\"1\" class=\"dataframe\">\n",
       "  <thead>\n",
       "    <tr style=\"text-align: right;\">\n",
       "      <th></th>\n",
       "      <th>d</th>\n",
       "      <th>n</th>\n",
       "      <th>Vi</th>\n",
       "      <th>Vo</th>\n",
       "      <th>dt</th>\n",
       "      <th>vo/vi</th>\n",
       "      <th>fase</th>\n",
       "      <th>h</th>\n",
       "      <th>ReH</th>\n",
       "      <th>ImH</th>\n",
       "      <th>err_vo/vi</th>\n",
       "      <th>err_fase</th>\n",
       "      <th>err_h</th>\n",
       "      <th>vo_with_err</th>\n",
       "      <th>vi_with_err</th>\n",
       "      <th>d_with_err</th>\n",
       "    </tr>\n",
       "  </thead>\n",
       "  <tbody>\n",
       "    <tr>\n",
       "      <th>0</th>\n",
       "      <td>0.000000</td>\n",
       "      <td>0</td>\n",
       "      <td>5.60</td>\n",
       "      <td>0.7760</td>\n",
       "      <td>-0.00060</td>\n",
       "      <td>0.138571</td>\n",
       "      <td>-0.189250</td>\n",
       "      <td>0.000000</td>\n",
       "      <td>0.136097</td>\n",
       "      <td>-0.026068</td>\n",
       "      <td>0.000305</td>\n",
       "      <td>0.003154</td>\n",
       "      <td>0.00000</td>\n",
       "      <td>0.7760+/-0.0010</td>\n",
       "      <td>5.600+/-0.010</td>\n",
       "      <td>(0.0+/-2.0)e-05</td>\n",
       "    </tr>\n",
       "    <tr>\n",
       "      <th>1</th>\n",
       "      <td>0.000002</td>\n",
       "      <td>1</td>\n",
       "      <td>5.49</td>\n",
       "      <td>0.7245</td>\n",
       "      <td>0.00024</td>\n",
       "      <td>0.131967</td>\n",
       "      <td>0.075700</td>\n",
       "      <td>0.000002</td>\n",
       "      <td>0.131589</td>\n",
       "      <td>0.009980</td>\n",
       "      <td>0.000302</td>\n",
       "      <td>0.003154</td>\n",
       "      <td>0.00002</td>\n",
       "      <td>0.7245+/-0.0010</td>\n",
       "      <td>5.490+/-0.010</td>\n",
       "      <td>(0.2+/-2.0)e-05</td>\n",
       "    </tr>\n",
       "    <tr>\n",
       "      <th>2</th>\n",
       "      <td>0.000002</td>\n",
       "      <td>2</td>\n",
       "      <td>5.40</td>\n",
       "      <td>0.6559</td>\n",
       "      <td>0.00028</td>\n",
       "      <td>0.121463</td>\n",
       "      <td>0.088316</td>\n",
       "      <td>0.000003</td>\n",
       "      <td>0.120990</td>\n",
       "      <td>0.010713</td>\n",
       "      <td>0.000291</td>\n",
       "      <td>0.003154</td>\n",
       "      <td>0.00004</td>\n",
       "      <td>0.6559+/-0.0010</td>\n",
       "      <td>5.400+/-0.010</td>\n",
       "      <td>(0.2+/-2.0)e-05</td>\n",
       "    </tr>\n",
       "    <tr>\n",
       "      <th>3</th>\n",
       "      <td>0.000002</td>\n",
       "      <td>3</td>\n",
       "      <td>5.33</td>\n",
       "      <td>0.5900</td>\n",
       "      <td>0.00080</td>\n",
       "      <td>0.110694</td>\n",
       "      <td>0.252333</td>\n",
       "      <td>0.000005</td>\n",
       "      <td>0.107189</td>\n",
       "      <td>0.027636</td>\n",
       "      <td>0.000280</td>\n",
       "      <td>0.003154</td>\n",
       "      <td>0.00006</td>\n",
       "      <td>0.5900+/-0.0010</td>\n",
       "      <td>5.330+/-0.010</td>\n",
       "      <td>(0.2+/-2.0)e-05</td>\n",
       "    </tr>\n",
       "    <tr>\n",
       "      <th>4</th>\n",
       "      <td>0.000002</td>\n",
       "      <td>4</td>\n",
       "      <td>5.30</td>\n",
       "      <td>0.5300</td>\n",
       "      <td>0.00124</td>\n",
       "      <td>0.100000</td>\n",
       "      <td>0.391116</td>\n",
       "      <td>0.000006</td>\n",
       "      <td>0.092448</td>\n",
       "      <td>0.038122</td>\n",
       "      <td>0.000267</td>\n",
       "      <td>0.003154</td>\n",
       "      <td>0.00008</td>\n",
       "      <td>0.5300+/-0.0010</td>\n",
       "      <td>5.300+/-0.010</td>\n",
       "      <td>(0.2+/-2.0)e-05</td>\n",
       "    </tr>\n",
       "    <tr>\n",
       "      <th>5</th>\n",
       "      <td>0.000002</td>\n",
       "      <td>5</td>\n",
       "      <td>5.27</td>\n",
       "      <td>0.4820</td>\n",
       "      <td>0.00164</td>\n",
       "      <td>0.091461</td>\n",
       "      <td>0.517282</td>\n",
       "      <td>0.000008</td>\n",
       "      <td>0.079495</td>\n",
       "      <td>0.045229</td>\n",
       "      <td>0.000257</td>\n",
       "      <td>0.003154</td>\n",
       "      <td>0.00010</td>\n",
       "      <td>0.4820+/-0.0010</td>\n",
       "      <td>5.270+/-0.010</td>\n",
       "      <td>(0.2+/-2.0)e-05</td>\n",
       "    </tr>\n",
       "    <tr>\n",
       "      <th>6</th>\n",
       "      <td>0.000002</td>\n",
       "      <td>6</td>\n",
       "      <td>5.26</td>\n",
       "      <td>0.4410</td>\n",
       "      <td>0.00200</td>\n",
       "      <td>0.083840</td>\n",
       "      <td>0.630832</td>\n",
       "      <td>0.000010</td>\n",
       "      <td>0.067704</td>\n",
       "      <td>0.049450</td>\n",
       "      <td>0.000248</td>\n",
       "      <td>0.003154</td>\n",
       "      <td>0.00012</td>\n",
       "      <td>0.4410+/-0.0010</td>\n",
       "      <td>5.260+/-0.010</td>\n",
       "      <td>(0.2+/-2.0)e-05</td>\n",
       "    </tr>\n",
       "    <tr>\n",
       "      <th>7</th>\n",
       "      <td>0.000002</td>\n",
       "      <td>7</td>\n",
       "      <td>5.26</td>\n",
       "      <td>0.4060</td>\n",
       "      <td>0.00232</td>\n",
       "      <td>0.077186</td>\n",
       "      <td>0.731765</td>\n",
       "      <td>0.000011</td>\n",
       "      <td>0.057426</td>\n",
       "      <td>0.051575</td>\n",
       "      <td>0.000240</td>\n",
       "      <td>0.003154</td>\n",
       "      <td>0.00014</td>\n",
       "      <td>0.4060+/-0.0010</td>\n",
       "      <td>5.260+/-0.010</td>\n",
       "      <td>(0.2+/-2.0)e-05</td>\n",
       "    </tr>\n",
       "    <tr>\n",
       "      <th>8</th>\n",
       "      <td>0.000002</td>\n",
       "      <td>8</td>\n",
       "      <td>5.25</td>\n",
       "      <td>0.3730</td>\n",
       "      <td>0.00260</td>\n",
       "      <td>0.071048</td>\n",
       "      <td>0.820081</td>\n",
       "      <td>0.000013</td>\n",
       "      <td>0.048466</td>\n",
       "      <td>0.051950</td>\n",
       "      <td>0.000234</td>\n",
       "      <td>0.003154</td>\n",
       "      <td>0.00016</td>\n",
       "      <td>0.3730+/-0.0010</td>\n",
       "      <td>5.250+/-0.010</td>\n",
       "      <td>(0.2+/-2.0)e-05</td>\n",
       "    </tr>\n",
       "    <tr>\n",
       "      <th>9</th>\n",
       "      <td>0.000002</td>\n",
       "      <td>9</td>\n",
       "      <td>5.25</td>\n",
       "      <td>0.3440</td>\n",
       "      <td>0.00284</td>\n",
       "      <td>0.065524</td>\n",
       "      <td>0.895781</td>\n",
       "      <td>0.000015</td>\n",
       "      <td>0.040946</td>\n",
       "      <td>0.051154</td>\n",
       "      <td>0.000228</td>\n",
       "      <td>0.003154</td>\n",
       "      <td>0.00018</td>\n",
       "      <td>0.3440+/-0.0010</td>\n",
       "      <td>5.250+/-0.010</td>\n",
       "      <td>(0.2+/-2.0)e-05</td>\n",
       "    </tr>\n",
       "    <tr>\n",
       "      <th>10</th>\n",
       "      <td>0.000002</td>\n",
       "      <td>10</td>\n",
       "      <td>5.26</td>\n",
       "      <td>0.3180</td>\n",
       "      <td>0.00320</td>\n",
       "      <td>0.060456</td>\n",
       "      <td>1.009331</td>\n",
       "      <td>0.000016</td>\n",
       "      <td>0.032189</td>\n",
       "      <td>0.051175</td>\n",
       "      <td>0.000222</td>\n",
       "      <td>0.003154</td>\n",
       "      <td>0.00020</td>\n",
       "      <td>0.3180+/-0.0010</td>\n",
       "      <td>5.260+/-0.010</td>\n",
       "      <td>(0.2+/-2.0)e-05</td>\n",
       "    </tr>\n",
       "  </tbody>\n",
       "</table>\n",
       "</div>"
      ],
      "text/plain": [
       "           d   n    Vi      Vo       dt     vo/vi      fase         h  \\\n",
       "0   0.000000   0  5.60  0.7760 -0.00060  0.138571 -0.189250  0.000000   \n",
       "1   0.000002   1  5.49  0.7245  0.00024  0.131967  0.075700  0.000002   \n",
       "2   0.000002   2  5.40  0.6559  0.00028  0.121463  0.088316  0.000003   \n",
       "3   0.000002   3  5.33  0.5900  0.00080  0.110694  0.252333  0.000005   \n",
       "4   0.000002   4  5.30  0.5300  0.00124  0.100000  0.391116  0.000006   \n",
       "5   0.000002   5  5.27  0.4820  0.00164  0.091461  0.517282  0.000008   \n",
       "6   0.000002   6  5.26  0.4410  0.00200  0.083840  0.630832  0.000010   \n",
       "7   0.000002   7  5.26  0.4060  0.00232  0.077186  0.731765  0.000011   \n",
       "8   0.000002   8  5.25  0.3730  0.00260  0.071048  0.820081  0.000013   \n",
       "9   0.000002   9  5.25  0.3440  0.00284  0.065524  0.895781  0.000015   \n",
       "10  0.000002  10  5.26  0.3180  0.00320  0.060456  1.009331  0.000016   \n",
       "\n",
       "         ReH       ImH  err_vo/vi  err_fase    err_h      vo_with_err  \\\n",
       "0   0.136097 -0.026068   0.000305  0.003154  0.00000  0.7760+/-0.0010   \n",
       "1   0.131589  0.009980   0.000302  0.003154  0.00002  0.7245+/-0.0010   \n",
       "2   0.120990  0.010713   0.000291  0.003154  0.00004  0.6559+/-0.0010   \n",
       "3   0.107189  0.027636   0.000280  0.003154  0.00006  0.5900+/-0.0010   \n",
       "4   0.092448  0.038122   0.000267  0.003154  0.00008  0.5300+/-0.0010   \n",
       "5   0.079495  0.045229   0.000257  0.003154  0.00010  0.4820+/-0.0010   \n",
       "6   0.067704  0.049450   0.000248  0.003154  0.00012  0.4410+/-0.0010   \n",
       "7   0.057426  0.051575   0.000240  0.003154  0.00014  0.4060+/-0.0010   \n",
       "8   0.048466  0.051950   0.000234  0.003154  0.00016  0.3730+/-0.0010   \n",
       "9   0.040946  0.051154   0.000228  0.003154  0.00018  0.3440+/-0.0010   \n",
       "10  0.032189  0.051175   0.000222  0.003154  0.00020  0.3180+/-0.0010   \n",
       "\n",
       "      vi_with_err       d_with_err  \n",
       "0   5.600+/-0.010  (0.0+/-2.0)e-05  \n",
       "1   5.490+/-0.010  (0.2+/-2.0)e-05  \n",
       "2   5.400+/-0.010  (0.2+/-2.0)e-05  \n",
       "3   5.330+/-0.010  (0.2+/-2.0)e-05  \n",
       "4   5.300+/-0.010  (0.2+/-2.0)e-05  \n",
       "5   5.270+/-0.010  (0.2+/-2.0)e-05  \n",
       "6   5.260+/-0.010  (0.2+/-2.0)e-05  \n",
       "7   5.260+/-0.010  (0.2+/-2.0)e-05  \n",
       "8   5.250+/-0.010  (0.2+/-2.0)e-05  \n",
       "9   5.250+/-0.010  (0.2+/-2.0)e-05  \n",
       "10  5.260+/-0.010  (0.2+/-2.0)e-05  "
      ]
     },
     "execution_count": 72,
     "metadata": {},
     "output_type": "execute_result"
    }
   ],
   "source": [
    "df"
   ]
  },
  {
   "cell_type": "code",
   "execution_count": 94,
   "id": "2925c3d5",
   "metadata": {},
   "outputs": [
    {
     "data": {
      "image/png": "[encoded data removed]",
      "text/plain": [
       "<Figure size 1000x600 with 1 Axes>"
      ]
     },
     "metadata": {},
     "output_type": "display_data"
    }
   ],
   "source": [
    "# Ploteo vo/vi vs h\n",
    "plt.figure(figsize=(10, 6))\n",
    "plt.errorbar(df['h'], df['vo/vi'], yerr=df['err_vo/vi']*0, xerr=df['err_h']*0, fmt='o', color='r',ecolor='black', zorder=2, label='Vo/Vi')\n",
    "plt.title(f'$V_o/V_i$ vs $h$')\n",
    "plt.xlabel(f'$h$ (m)')\n",
    "plt.ylabel(f'$V_o/V_i$ = $|H(w)|$')\n",
    "plt.grid()\n",
    "#plt.ylim(0, 0.15)\n",
    "plt.legend()\n",
    "plt.show()\n"
   ]
  },
  {
   "cell_type": "code",
   "execution_count": 97,
   "id": "8486625f",
   "metadata": {},
   "outputs": [
    {
     "data": {
      "image/png": "[encoded data removed]",
      "text/plain": [
       "<Figure size 1000x600 with 1 Axes>"
      ]
     },
     "metadata": {},
     "output_type": "display_data"
    }
   ],
   "source": [
    "# Ploteo la fase vs h  \n",
    "plt.figure(figsize=(10, 6))\n",
    "#plt.scatter(df['h'], df['fase'], marker='o', color='b', zorder=2, label='Fase')\n",
    "plt.errorbar(df['h'], df['fase'], yerr=df['err_h'], xerr=df['err_fase']*0.0000001, fmt='bo', ecolor='red', label='Datos')\n",
    "plt.title(f'$\\Delta$Fase vs $h$')\n",
    "plt.xlabel(f'$h$ (m)')\n",
    "plt.ylabel(f'$\\Delta$Fase (rad)')\n",
    "plt.grid()\n",
    "plt.legend()\n",
    "plt.show()"
   ]
  },
  {
   "cell_type": "code",
   "execution_count": 36,
   "id": "cd013f84",
   "metadata": {},
   "outputs": [],
   "source": [
    "df['ReH'] = df['vo/vi']*np.cos(df['fase'])\n",
    "df['ImH'] = df['vo/vi']*np.sin(df['fase'])"
   ]
  },
  {
   "cell_type": "code",
   "execution_count": null,
   "id": "93005776",
   "metadata": {},
   "outputs": [
    {
     "data": {
      "image/png": "[encoded data removed]",
      "text/plain": [
       "<Figure size 1000x600 with 2 Axes>"
      ]
     },
     "metadata": {},
     "output_type": "display_data"
    }
   ],
   "source": [
    "# Plotear los datos\n",
    "plt.figure(figsize=(10, 6))\n",
    "scatter = plt.scatter(df['ReH'], df['ImH'], c=df['h'], cmap='viridis', marker='o', zorder=2)\n",
    "plt.colorbar(scatter, label='$h$ (m)')\n",
    "plt.title(f'Nyquist de $H(w)$')\n",
    "plt.grid()\n",
    "plt.xlabel(f'$Re(H(w))$')\n",
    "plt.ylabel(f'$Im(H(w))$')\n",
    "plt.axhline(0, color='black', lw=1.5, ls='-')\n",
    "plt.axvline(0, color='black', lw=1.5, ls='-')\n",
    "#plt.xlim(-0.2, 1)\n",
    "#plt.ylim(-0.2, 1)\n",
    "plt.show()"
   ]
  },
  {
   "cell_type": "markdown",
   "id": "a16e0ae7",
   "metadata": {},
   "source": [
    "## Ajuste"
   ]
  },
  {
   "cell_type": "code",
   "execution_count": 98,
   "id": "5783e89e",
   "metadata": {},
   "outputs": [],
   "source": [
    "import scipy.odr as ODR"
   ]
  },
  {
   "cell_type": "code",
   "execution_count": 128,
   "id": "7d5a1aae",
   "metadata": {},
   "outputs": [
    {
     "name": "stdout",
     "output_type": "stream",
     "text": [
      "Beta: [ 1.         -9.33222671]\n",
      "Beta Std Error: [0.         0.08376021]\n",
      "Beta Covariance: [[0.  0. ]\n",
      " [0.  0.1]]\n",
      "Residual Variance: 0.07015772226559235\n",
      "Inverse Condition #: 0.9999999999999999\n",
      "Reason(s) for Halting:\n",
      "  Problem is not full rank at solution\n",
      "  Both sum of squares and parameter convergence\n"
     ]
    }
   ],
   "source": [
    "x = df['h'][1:]\n",
    "y = np.log(df['vo/vi'][1:])\n",
    "\n",
    "def Ajuste(B, x):\n",
    "    return -B[0]*x + B[1]\n",
    "\n",
    "func = ODR.Model(Ajuste)\n",
    "data = ODR.Data(x, y)\n",
    "odr = ODR.ODR(data, func, beta0=[1, 1])\n",
    "out = odr.run()\n",
    "out.pprint()"
   ]
  },
  {
   "cell_type": "code",
   "execution_count": 126,
   "id": "1e90302a",
   "metadata": {},
   "outputs": [
    {
     "data": {
      "image/png": "[encoded data removed]",
      "text/plain": [
       "<Figure size 1000x600 with 1 Axes>"
      ]
     },
     "metadata": {},
     "output_type": "display_data"
    }
   ],
   "source": [
    "plt.figure(figsize=(10, 6))\n",
    "plt.errorbar(df['h'], df['vo/vi'], yerr=df['err_vo/vi']*0, xerr=df['err_h']*0, fmt='o', color='r',ecolor='black', zorder=2, label='Vo/Vi')\n",
    "#plt.plot(np.linspace(-25, -16, 100), Ajuste(out.beta, np.linspace(0, 1.7*10**(-8), 100)), 'b-', label='Ajuste')\n",
    "#plt.plot(np.logspace(-25, -16, 100), Ajuste(out.beta, np.logspace(-25, -16,100)), 'b-', label='Ajuste')\n",
    "plt.plot(x, np.exp(Ajuste(out.beta, x)), 'b-', label='Ajuste')\n",
    "plt.title(f'$V_o/V_i$ vs $h$')\n",
    "plt.xlabel(f'$h$ (m)')\n",
    "plt.ylabel(f'$V_o/V_i$ = $|H(w)|$')\n",
    "plt.grid()\n",
    "#plt.ylim(0, 0.15)\n",
    "#plt.xscale('log')\n",
    "plt.yscale('log')\n",
    "plt.legend()\n",
    "plt.show()"
   ]
  },
  {
   "cell_type": "code",
   "execution_count": null,
   "id": "f98f7be3",
   "metadata": {},
   "outputs": [],
   "source": []
  }
 ],
 "metadata": {
  "kernelspec": {
   "display_name": "Python 3",
   "language": "python",
   "name": "python3"
  },
  "language_info": {
   "codemirror_mode": {
    "name": "ipython",
    "version": 3
   },
   "file_extension": ".py",
   "mimetype": "text/x-python",
   "name": "python",
   "nbconvert_exporter": "python",
   "pygments_lexer": "ipython3",
   "version": "3.11.9"
  }
 },
 "nbformat": 4,
 "nbformat_minor": 5
}
