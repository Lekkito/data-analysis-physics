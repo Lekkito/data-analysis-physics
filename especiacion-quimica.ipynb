{
 "cells": [
  {
   "cell_type": "code",
   "execution_count": 3,
   "metadata": {},
   "outputs": [],
   "source": [
    "import numpy as np\n",
    "import pandas as pd\n",
    "import matplotlib.pyplot as plt\n",
    "import scipy.odr as ODR"
   ]
  },
  {
   "cell_type": "markdown",
   "metadata": {},
   "source": [
    "# Calibracion"
   ]
  },
  {
   "cell_type": "code",
   "execution_count": 4,
   "metadata": {},
   "outputs": [],
   "source": [
    "datosCal = pd.read_csv('D:\\Downloads\\Especiacion Química\\Calibracion Especiacion quimica.txt', sep='\\t', decimal='.')\n",
    "\n",
    "#Hacer ajuste lineal en el eje x canal y en el eje y energia\n",
    "x = datosCal['Canal']\n",
    "y = datosCal['Energia']\n",
    "\n",
    "def f(B, x):\n",
    "    return B[0]*x + B[1]\n",
    "linear = ODR.Model(f)\n",
    "mydata = ODR.RealData(x, y)\n",
    "myodr = ODR.ODR(mydata, linear, beta0=[0., 1.])\n",
    "myoutput = myodr.run()\n",
    "#myoutput.pprint()\n",
    "m = myoutput.beta[0]\n",
    "b = myoutput.beta[1]\n",
    "\n",
    "#Funcion para calcular la energia de un canal input\n",
    "def energia(canal):\n",
    "    return m*canal + b"
   ]
  },
  {
   "cell_type": "markdown",
   "metadata": {},
   "source": [
    "# Funciones"
   ]
  },
  {
   "cell_type": "code",
   "execution_count": 25,
   "metadata": {},
   "outputs": [
    {
     "data": {
      "text/plain": [
       "6298.280135750716"
      ]
     },
     "execution_count": 25,
     "metadata": {},
     "output_type": "execute_result"
    }
   ],
   "source": [
    "energia(1341)"
   ]
  },
  {
   "cell_type": "code",
   "execution_count": 8,
   "metadata": {},
   "outputs": [],
   "source": [
    "#Funcion para buscar maximos (achicar el rango del eje x en el histograma)\n",
    "energia = datos['Energia']  # reemplaza 'Energia' con el nombre de tu columna de energía\n",
    "cuentas = datos['Cuentas']  # reemplaza 'Cuentas' con el nombre de tu columna de cuentas\n",
    "\n",
    "\n",
    "def pathfinder(min, max, pasos=500, div=150):\n",
    "    \n",
    "    plt.hist(energia, weights=cuentas, bins=div, color='skyblue', edgecolor='black', density=False)\n",
    "    plt.xlabel('Energía')\n",
    "    plt.ylabel('Cuentas')\n",
    "    #plt.title('Muestra de Tierra')\n",
    "\n",
    "    plt.xlim(min, max)\n",
    "    plt.xticks(range(min, max, pasos))\n",
    "    plt.show()\n",
    "    \n",
    "    \n",
    "# Defino una funcion que me recorte los datos en un rango de energias\n",
    "def recorte(min, max):\n",
    "    return datos[(datos['Energia'] > min) & (datos['Energia'] < max)]\n",
    "\n",
    "# Defino una funcion gausseana para ajustar los picos\n",
    "def gaussian(x, amp, cen, wid):\n",
    "    return amp * np.exp(-(x-cen)**2 / wid)"
   ]
  },
  {
   "cell_type": "markdown",
   "metadata": {},
   "source": [
    "# Fondo"
   ]
  },
  {
   "cell_type": "code",
   "execution_count": 5,
   "metadata": {},
   "outputs": [],
   "source": [
    "#Leo los datos de la muestra y del fondo y les creo una nueva columna con la energia\n",
    "datosT = pd.read_csv('D:\\Downloads\\Especiacion Química\\Tierra_NB_Nuevo.txt', sep='\\t')\n",
    "datosFondo = pd.read_csv('D:\\Downloads\\Especiacion Química\\Fondo_NB_Nuevo.txt', sep='\\t')\n",
    "\n",
    "datosT['Energia'] = energia(datosT['Cuentas'].index)\n",
    "datosFondo['Energia'] = energia(datosFondo['Cuentas'].index)\n",
    "#Resto el fondo de la muestra\n",
    "datos = pd.DataFrame()\n",
    "datos['Cuentas'] = datosT['Cuentas'] - datosFondo['Cuentas']\n",
    "datos['Energia'] = energia(datos['Cuentas'].index)"
   ]
  },
  {
   "cell_type": "markdown",
   "metadata": {},
   "source": [
    "# Datos"
   ]
  },
  {
   "cell_type": "code",
   "execution_count": 33,
   "metadata": {},
   "outputs": [
    {
     "data": {
      "image/png": "[encoded data removed]",
      "text/plain": [
       "<Figure size 432x288 with 1 Axes>"
      ]
     },
     "metadata": {
      "needs_background": "light"
     },
     "output_type": "display_data"
    }
   ],
   "source": [
    "# Supongamos que 'energia' y 'cuentas' son tus datos\n",
    "energia = datos['Energia']  # reemplaza 'Energia' con el nombre de tu columna de energía\n",
    "cuentas = datos['Cuentas']  # reemplaza 'Cuentas' con el nombre de tu columna de cuentas\n",
    "\n",
    "plt.hist(energia, weights=cuentas, bins=150, color='skyblue', edgecolor='black', density=False)\n",
    "plt.xlabel('Energía')\n",
    "plt.ylabel('Cuentas')\n",
    "#plt.title('Muestra de Tierra')\n",
    "\n",
    "plt.xlim(2000, 8800)\n",
    "#plt.xticks(range(5500, 6800, 500))\n",
    "plt.show()\n"
   ]
  },
  {
   "cell_type": "markdown",
   "metadata": {},
   "source": [
    "## Pico 1"
   ]
  },
  {
   "cell_type": "code",
   "execution_count": 9,
   "metadata": {},
   "outputs": [
    {
     "data": {
      "image/png": "[encoded data removed]",
      "text/plain": [
       "<Figure size 432x288 with 1 Axes>"
      ]
     },
     "metadata": {
      "needs_background": "light"
     },
     "output_type": "display_data"
    }
   ],
   "source": [
    "pathfinder(6100, 6700, 100, div=1000)\n",
    "pico1 = recorte(6100, 6700)"
   ]
  },
  {
   "cell_type": "code",
   "execution_count": 10,
   "metadata": {},
   "outputs": [
    {
     "data": {
      "text/plain": [
       "(525014.6602961456, 6403.761443479195, 12135.072740880712)"
      ]
     },
     "execution_count": 10,
     "metadata": {},
     "output_type": "execute_result"
    }
   ],
   "source": [
    "# Ajusto el pico1 usando ODR y la funcion gausseana\n",
    "x = pico1['Energia']\n",
    "y = pico1['Cuentas']\n",
    "\n",
    "def f(B, x):\n",
    "    return B[0] * np.exp(-(x-B[1])**2 / B[2])\n",
    "\n",
    "gauss = ODR.Model(f)\n",
    "mydata = ODR.RealData(x, y)\n",
    "myodr = ODR.ODR(mydata, gauss, beta0=[1e6, 6400., 1000.], maxit=10000)\n",
    "myoutput = myodr.run()\n",
    "#myoutput.pprint()\n",
    "amp = myoutput.beta[0]\n",
    "cen = myoutput.beta[1]\n",
    "err_cen = myoutput.sd_beta[1]\n",
    "wid = myoutput.beta[2]\n",
    "\n",
    "amp, cen, wid\n"
   ]
  },
  {
   "cell_type": "code",
   "execution_count": 11,
   "metadata": {},
   "outputs": [
    {
     "data": {
      "image/png": "[encoded data removed]",
      "text/plain": [
       "<Figure size 432x288 with 1 Axes>"
      ]
     },
     "metadata": {
      "needs_background": "light"
     },
     "output_type": "display_data"
    },
    {
     "name": "stdout",
     "output_type": "stream",
     "text": [
      "El pico 1 tiene una energia de 6403.761443479195 keV y una altura de  525014.6602961456 cuentas\n"
     ]
    }
   ],
   "source": [
    "#Grafico el ajuste\n",
    "#plt.plot(x, y, 'ko')\n",
    "plt.hist(pico1['Energia'], weights=pico1['Cuentas'], bins=128, color='skyblue', edgecolor='black', density=False)\n",
    "plt.plot(x, f([amp, cen, wid], x), color='red', linewidth=2)\n",
    "plt.xlabel('Energía')\n",
    "plt.ylabel('Cuentas')\n",
    "plt.show()\n",
    "\n",
    "print(\"El pico 1 tiene una energia de\", cen, \"keV y una altura de \", amp, \"cuentas\")"
   ]
  },
  {
   "cell_type": "markdown",
   "metadata": {},
   "source": [
    "## Pico 2"
   ]
  },
  {
   "cell_type": "code",
   "execution_count": 12,
   "metadata": {},
   "outputs": [
    {
     "data": {
      "image/png": "[encoded data removed]",
      "text/plain": [
       "<Figure size 432x288 with 1 Axes>"
      ]
     },
     "metadata": {
      "needs_background": "light"
     },
     "output_type": "display_data"
    }
   ],
   "source": [
    "pathfinder(6850, 7300, 50, div=1000)\n",
    "pico2= recorte(6850, 7300)\n"
   ]
  },
  {
   "cell_type": "code",
   "execution_count": 13,
   "metadata": {},
   "outputs": [
    {
     "name": "stdout",
     "output_type": "stream",
     "text": [
      "Beta: [82686.42159224  7068.7850802  16548.99085557]\n",
      "Beta Std Error: [158.51724707   1.66970932 427.88959701]\n",
      "Beta Covariance: [[ 9.74629952e+01  1.24379650e-01 -2.07325409e+01]\n",
      " [ 1.24379650e-01  1.08135540e-02 -1.30472888e-01]\n",
      " [-2.07325409e+01 -1.30472888e-01  7.10150123e+02]]\n",
      "Residual Variance: 257.81803213114756\n",
      "Inverse Condition #: 0.008145294526946565\n",
      "Reason(s) for Halting:\n",
      "  Sum of squares convergence\n"
     ]
    },
    {
     "data": {
      "text/plain": [
       "(82686.42159224079, 7068.785080197843, 16548.99085556909)"
      ]
     },
     "execution_count": 13,
     "metadata": {},
     "output_type": "execute_result"
    }
   ],
   "source": [
    "#Ajusto el pico 2 usando ODR y la funcion gausseana\n",
    "x = pico2['Energia']\n",
    "y = pico2['Cuentas']\n",
    "\n",
    "def f(B, x):\n",
    "    return B[0] * np.exp(-(x-B[1])**2 / B[2])\n",
    "\n",
    "gauss = ODR.Model(f)\n",
    "mydata = ODR.RealData(x, y)\n",
    "myodr = ODR.ODR(mydata, gauss, beta0=[82000, 7060., 14000.], maxit=10000)\n",
    "myoutput = myodr.run()\n",
    "myoutput.pprint()\n",
    "amp2 = myoutput.beta[0]\n",
    "cen2 = myoutput.beta[1]\n",
    "err_cen2 = myoutput.sd_beta[1]\n",
    "wid2 = myoutput.beta[2]\n",
    "\n",
    "amp2, cen2, wid2"
   ]
  },
  {
   "cell_type": "code",
   "execution_count": 14,
   "metadata": {},
   "outputs": [
    {
     "data": {
      "image/png": "[encoded data removed]",
      "text/plain": [
       "<Figure size 432x288 with 1 Axes>"
      ]
     },
     "metadata": {
      "needs_background": "light"
     },
     "output_type": "display_data"
    },
    {
     "name": "stdout",
     "output_type": "stream",
     "text": [
      "El pico 2 tiene una energia de 7068.785080197843 eV y una altura de  82686.42159224079 cuentas\n"
     ]
    }
   ],
   "source": [
    "# Grafico el ajuste\n",
    "#plt.plot(x, y, 'ko')\n",
    "plt.hist(pico2['Energia'], weights=pico2['Cuentas'], bins=128, color='skyblue', edgecolor='black', density=False)\n",
    "plt.plot(x, f([amp2, cen2, wid2], x), color='red', linewidth=2)\n",
    "plt.xlabel('Energía')\n",
    "plt.ylabel('Cuentas')\n",
    "plt.show()\n",
    "\n",
    "print(\"El pico 2 tiene una energia de\", cen2, \"eV y una altura de \", amp2, \"cuentas\")"
   ]
  },
  {
   "cell_type": "markdown",
   "metadata": {},
   "source": [
    "## Pico 3"
   ]
  },
  {
   "cell_type": "code",
   "execution_count": 15,
   "metadata": {},
   "outputs": [
    {
     "data": {
      "text/plain": [
       "(array([ 4024.,     0.,  4759.,     0.,  4812.,     0.,  5435.,     0.,\n",
       "         6072.,     0.,  7051.,     0.,  7723.,     0.,  8881.,     0.,\n",
       "        10086.,     0., 11346.,     0., 12560.,     0., 14024.,     0.,\n",
       "        15399.,     0., 17310.,     0., 19037.,     0., 20817.,     0.,\n",
       "            0., 23045.,     0., 24680.,     0., 26758.,     0., 29109.,\n",
       "            0., 31095.,     0., 32788.,     0., 34868.,     0., 37323.,\n",
       "            0., 38782.,     0., 39903.,     0., 41765.,     0., 42585.,\n",
       "            0., 43365.,     0., 45125.,     0., 45125.,     0.,     0.,\n",
       "        45230.,     0., 45560.,     0., 44942.,     0., 44121.,     0.,\n",
       "        43708.,     0., 42509.,     0., 41356.,     0., 39730.,     0.,\n",
       "        38247.,     0., 36831.,     0., 35006.,     0., 33240.,     0.,\n",
       "        30725.,     0., 29163.,     0., 26878.,     0., 24999.,     0.,\n",
       "            0., 22683.,     0., 21186.,     0., 19676.,     0., 17588.,\n",
       "            0., 15932.,     0., 14249.,     0., 12869.,     0., 11601.,\n",
       "            0., 10540.,     0.,  9529.,     0.,  8820.,     0.,  7792.,\n",
       "            0.,  7168.,     0.,  6787.,     0.,  6257.,     0.,  5909.]),\n",
       " array([2800.71190485, 2803.02313897, 2805.33437309, 2807.64560721,\n",
       "        2809.95684134, 2812.26807546, 2814.57930958, 2816.8905437 ,\n",
       "        2819.20177783, 2821.51301195, 2823.82424607, 2826.13548019,\n",
       "        2828.44671432, 2830.75794844, 2833.06918256, 2835.38041668,\n",
       "        2837.69165081, 2840.00288493, 2842.31411905, 2844.62535317,\n",
       "        2846.9365873 , 2849.24782142, 2851.55905554, 2853.87028966,\n",
       "        2856.18152379, 2858.49275791, 2860.80399203, 2863.11522615,\n",
       "        2865.42646028, 2867.7376944 , 2870.04892852, 2872.36016264,\n",
       "        2874.67139677, 2876.98263089, 2879.29386501, 2881.60509914,\n",
       "        2883.91633326, 2886.22756738, 2888.5388015 , 2890.85003563,\n",
       "        2893.16126975, 2895.47250387, 2897.78373799, 2900.09497212,\n",
       "        2902.40620624, 2904.71744036, 2907.02867448, 2909.33990861,\n",
       "        2911.65114273, 2913.96237685, 2916.27361097, 2918.5848451 ,\n",
       "        2920.89607922, 2923.20731334, 2925.51854746, 2927.82978159,\n",
       "        2930.14101571, 2932.45224983, 2934.76348395, 2937.07471808,\n",
       "        2939.3859522 , 2941.69718632, 2944.00842044, 2946.31965457,\n",
       "        2948.63088869, 2950.94212281, 2953.25335693, 2955.56459106,\n",
       "        2957.87582518, 2960.1870593 , 2962.49829343, 2964.80952755,\n",
       "        2967.12076167, 2969.43199579, 2971.74322992, 2974.05446404,\n",
       "        2976.36569816, 2978.67693228, 2980.98816641, 2983.29940053,\n",
       "        2985.61063465, 2987.92186877, 2990.2331029 , 2992.54433702,\n",
       "        2994.85557114, 2997.16680526, 2999.47803939, 3001.78927351,\n",
       "        3004.10050763, 3006.41174175, 3008.72297588, 3011.03421   ,\n",
       "        3013.34544412, 3015.65667824, 3017.96791237, 3020.27914649,\n",
       "        3022.59038061, 3024.90161473, 3027.21284886, 3029.52408298,\n",
       "        3031.8353171 , 3034.14655122, 3036.45778535, 3038.76901947,\n",
       "        3041.08025359, 3043.39148772, 3045.70272184, 3048.01395596,\n",
       "        3050.32519008, 3052.63642421, 3054.94765833, 3057.25889245,\n",
       "        3059.57012657, 3061.8813607 , 3064.19259482, 3066.50382894,\n",
       "        3068.81506306, 3071.12629719, 3073.43753131, 3075.74876543,\n",
       "        3078.05999955, 3080.37123368, 3082.6824678 , 3084.99370192,\n",
       "        3087.30493604, 3089.61617017, 3091.92740429, 3094.23863841,\n",
       "        3096.54987253]),\n",
       " <BarContainer object of 128 artists>)"
      ]
     },
     "execution_count": 15,
     "metadata": {},
     "output_type": "execute_result"
    },
    {
     "data": {
      "image/png": "[encoded data removed]",
      "text/plain": [
       "<Figure size 432x288 with 1 Axes>"
      ]
     },
     "metadata": {
      "needs_background": "light"
     },
     "output_type": "display_data"
    }
   ],
   "source": [
    "#pathfinder(2800, 3100,50, div=1000)\n",
    "pico3 = recorte(2800, 3100)\n",
    "plt.hist(pico3['Energia'], weights=pico3['Cuentas'], bins=128, color='skyblue', edgecolor='black', density=False)"
   ]
  },
  {
   "cell_type": "code",
   "execution_count": 16,
   "metadata": {},
   "outputs": [
    {
     "name": "stdout",
     "output_type": "stream",
     "text": [
      "Beta: [45560.75358071  2951.36173994  8609.06852754]\n",
      "Beta Std Error: [18.89726208  0.49015556 96.59237044]\n",
      "Beta Covariance: [[ 2.40209025e+01 -7.91801050e-02 -5.68646252e+00]\n",
      " [-7.91801050e-02  1.61606718e-02  1.18137930e-01]\n",
      " [-5.68646252e+00  1.18137930e-01  6.27591707e+02]]\n",
      "Residual Variance: 14.866490296351765\n",
      "Inverse Condition #: 0.03372276707581336\n",
      "Reason(s) for Halting:\n",
      "  Sum of squares convergence\n"
     ]
    },
    {
     "data": {
      "text/plain": [
       "(525014.6602961456, 6403.761443479195, 12135.072740880712)"
      ]
     },
     "execution_count": 16,
     "metadata": {},
     "output_type": "execute_result"
    }
   ],
   "source": [
    "# Ajusto el pico 3 usando ODR y la funcion gausseana\n",
    "x = pico3['Energia']\n",
    "y = pico3['Cuentas']\n",
    "\n",
    "mydata = ODR.RealData(x, y)\n",
    "myodr = ODR.ODR(mydata, gauss, beta0=[45000, 2950., 18000.], maxit=10000)\n",
    "myoutput = myodr.run()\n",
    "myoutput.pprint()\n",
    "amp3 = myoutput.beta[0]\n",
    "cen3 = myoutput.beta[1]\n",
    "err_cen3 = myoutput.sd_beta[1]\n",
    "wid3 = myoutput.beta[2]\n",
    "\n",
    "amp, cen, wid"
   ]
  },
  {
   "cell_type": "code",
   "execution_count": 17,
   "metadata": {},
   "outputs": [
    {
     "data": {
      "image/png": "[encoded data removed]",
      "text/plain": [
       "<Figure size 432x288 with 1 Axes>"
      ]
     },
     "metadata": {
      "needs_background": "light"
     },
     "output_type": "display_data"
    },
    {
     "name": "stdout",
     "output_type": "stream",
     "text": [
      "El pico 3 tiene una energia de 2951.3617399402733 eV y una altura de  45560.753580710036 cuentas\n"
     ]
    }
   ],
   "source": [
    "# Grafico el ajuste\n",
    "#plt.plot(x, y, 'ko')\n",
    "plt.hist(pico3['Energia'], weights=pico3['Cuentas'], bins=128, color='skyblue', edgecolor='black', density=False)\n",
    "plt.plot(x, f([amp3, cen3, wid3], x), color='red', linewidth=2)\n",
    "plt.xlabel('Energía')\n",
    "plt.ylabel('Cuentas')\n",
    "plt.show()\n",
    "\n",
    "print(\"El pico 3 tiene una energia de\", cen3, \"eV y una altura de \", amp3, \"cuentas\")"
   ]
  },
  {
   "cell_type": "markdown",
   "metadata": {},
   "source": [
    "## Pico 4"
   ]
  },
  {
   "cell_type": "code",
   "execution_count": 18,
   "metadata": {},
   "outputs": [
    {
     "data": {
      "text/plain": [
       "(array([ 2191.,  2480.,     0.,  2666.,  2863.,     0.,  3202.,  3575.,\n",
       "            0.,  3941.,  4329.,     0.,  4836.,  5391.,     0.,  5938.,\n",
       "         6672.,     0.,  7405.,     0.,  8202.,  9257.,     0., 10151.,\n",
       "        11303.,     0., 12570., 13871.,     0., 15185., 16533.,     0.,\n",
       "        18376., 19516.,     0., 21268.,     0., 22700., 24577.,     0.,\n",
       "        26627., 28018.,     0., 29814., 31376.,     0., 32457., 34419.,\n",
       "            0., 35743., 36602.,     0., 37603., 38937.,     0., 39768.,\n",
       "            0., 39675., 39907.,     0., 39880., 39941.,     0., 39093.,\n",
       "        38811.,     0., 37798., 36269.,     0., 35812., 34225.,     0.,\n",
       "        32795.,     0., 31383., 29506.,     0., 28253., 26123.,     0.,\n",
       "        24480., 22520.,     0., 20628., 19243.,     0., 17746., 15806.,\n",
       "            0., 14550., 12753.,     0., 11613.,     0., 10225.,  9152.,\n",
       "            0.,  8116.,  7039.,     0.,  6440.,  5535.,     0.,  4825.,\n",
       "         4258.,     0.,  3921.,  3317.,     0.,  2982.,     0.,  2694.,\n",
       "         2524.,     0.,  2243.,  2151.,     0.,  1968.,  1842.,     0.,\n",
       "         1847.,  1837.,     0.,  1850.,  1926.,     0.,  2091.,  2161.]),\n",
       " array([3502.13418308, 3505.22825456, 3508.32232605, 3511.41639754,\n",
       "        3514.51046902, 3517.60454051, 3520.698612  , 3523.79268348,\n",
       "        3526.88675497, 3529.98082646, 3533.07489794, 3536.16896943,\n",
       "        3539.26304092, 3542.3571124 , 3545.45118389, 3548.54525538,\n",
       "        3551.63932686, 3554.73339835, 3557.82746984, 3560.92154132,\n",
       "        3564.01561281, 3567.1096843 , 3570.20375578, 3573.29782727,\n",
       "        3576.39189876, 3579.48597024, 3582.58004173, 3585.67411322,\n",
       "        3588.7681847 , 3591.86225619, 3594.95632768, 3598.05039916,\n",
       "        3601.14447065, 3604.23854214, 3607.33261362, 3610.42668511,\n",
       "        3613.5207566 , 3616.61482808, 3619.70889957, 3622.80297106,\n",
       "        3625.89704254, 3628.99111403, 3632.08518552, 3635.179257  ,\n",
       "        3638.27332849, 3641.36739998, 3644.46147146, 3647.55554295,\n",
       "        3650.64961444, 3653.74368592, 3656.83775741, 3659.9318289 ,\n",
       "        3663.02590038, 3666.11997187, 3669.21404336, 3672.30811484,\n",
       "        3675.40218633, 3678.49625782, 3681.5903293 , 3684.68440079,\n",
       "        3687.77847228, 3690.87254376, 3693.96661525, 3697.06068674,\n",
       "        3700.15475822, 3703.24882971, 3706.3429012 , 3709.43697268,\n",
       "        3712.53104417, 3715.62511566, 3718.71918714, 3721.81325863,\n",
       "        3724.90733012, 3728.0014016 , 3731.09547309, 3734.18954458,\n",
       "        3737.28361606, 3740.37768755, 3743.47175904, 3746.56583052,\n",
       "        3749.65990201, 3752.7539735 , 3755.84804498, 3758.94211647,\n",
       "        3762.03618796, 3765.13025944, 3768.22433093, 3771.31840242,\n",
       "        3774.4124739 , 3777.50654539, 3780.60061688, 3783.69468836,\n",
       "        3786.78875985, 3789.88283134, 3792.97690282, 3796.07097431,\n",
       "        3799.1650458 , 3802.25911728, 3805.35318877, 3808.44726026,\n",
       "        3811.54133174, 3814.63540323, 3817.72947472, 3820.8235462 ,\n",
       "        3823.91761769, 3827.01168918, 3830.10576066, 3833.19983215,\n",
       "        3836.29390364, 3839.38797512, 3842.48204661, 3845.5761181 ,\n",
       "        3848.67018958, 3851.76426107, 3854.85833256, 3857.95240404,\n",
       "        3861.04647553, 3864.14054702, 3867.2346185 , 3870.32868999,\n",
       "        3873.42276148, 3876.51683296, 3879.61090445, 3882.70497594,\n",
       "        3885.79904742, 3888.89311891, 3891.9871904 , 3895.08126188,\n",
       "        3898.17533337]),\n",
       " <BarContainer object of 128 artists>)"
      ]
     },
     "execution_count": 18,
     "metadata": {},
     "output_type": "execute_result"
    },
    {
     "data": {
      "image/png": "[encoded data removed]",
      "text/plain": [
       "<Figure size 432x288 with 1 Axes>"
      ]
     },
     "metadata": {
      "needs_background": "light"
     },
     "output_type": "display_data"
    }
   ],
   "source": [
    "#pathfinder(3500, 3900, 100, div=1000)\n",
    "pico4 = recorte(3500, 3900)\n",
    "plt.hist(pico4['Energia'], weights=pico4['Cuentas'], bins=128, color='skyblue', edgecolor='black', density=False)"
   ]
  },
  {
   "cell_type": "code",
   "execution_count": 19,
   "metadata": {},
   "outputs": [
    {
     "name": "stdout",
     "output_type": "stream",
     "text": [
      "Beta: [39950.95999014  3686.01156375 10156.62840012]\n",
      "Beta Std Error: [ 99.28675263   1.05555379 185.28163317]\n",
      "Beta Covariance: [[ 1.07111874e+02 -4.69993117e-02 -1.94899375e+01]\n",
      " [-4.69993117e-02  1.21064201e-02 -2.48664586e-01]\n",
      " [-1.94899375e+01 -2.48664586e-01  3.73009374e+02]]\n",
      "Residual Variance: 92.0332999399137\n",
      "Inverse Condition #: 0.01515638646740564\n",
      "Reason(s) for Halting:\n",
      "  Sum of squares convergence\n"
     ]
    },
    {
     "data": {
      "text/plain": [
       "(525014.6602961456, 6403.761443479195, 12135.072740880712)"
      ]
     },
     "execution_count": 19,
     "metadata": {},
     "output_type": "execute_result"
    }
   ],
   "source": [
    "# Ajusto el pico 4 usando ODR y la funcion gausseana\n",
    "x = pico4['Energia']\n",
    "y = pico4['Cuentas']\n",
    "\n",
    "mydata = ODR.RealData(x, y)\n",
    "myodr = ODR.ODR(mydata, gauss, beta0=[40000, 3700., 9000.], maxit=10000)\n",
    "myoutput = myodr.run()\n",
    "myoutput.pprint()\n",
    "amp4 = myoutput.beta[0]\n",
    "cen4 = myoutput.beta[1]\n",
    "err_cen4 = myoutput.sd_beta[1]\n",
    "wid4 = myoutput.beta[2]\n",
    "\n",
    "amp, cen, wid"
   ]
  },
  {
   "cell_type": "code",
   "execution_count": 20,
   "metadata": {},
   "outputs": [
    {
     "data": {
      "image/png": "[encoded data removed]",
      "text/plain": [
       "<Figure size 432x288 with 1 Axes>"
      ]
     },
     "metadata": {
      "needs_background": "light"
     },
     "output_type": "display_data"
    },
    {
     "name": "stdout",
     "output_type": "stream",
     "text": [
      "El pico 4 tiene una energia de 3686.011563749046 eV y una altura de  39950.959990142175 cuentas\n"
     ]
    }
   ],
   "source": [
    "# Grafigo el ajuste\n",
    "#plt.plot(x, y, 'ko')\n",
    "plt.hist(pico4['Energia'], weights=pico4['Cuentas'], bins=128, color='skyblue', edgecolor='black', density=False)\n",
    "plt.plot(x, f([amp4, cen4, wid4], x), color='red', linewidth=2)\n",
    "plt.xlabel('Energía')\n",
    "plt.ylabel('Cuentas')\n",
    "plt.show()\n",
    "\n",
    "print(\"El pico 4 tiene una energia de\", cen4, \"eV y una altura de \", amp4, \"cuentas\")"
   ]
  },
  {
   "cell_type": "markdown",
   "metadata": {},
   "source": [
    "## Pico 5"
   ]
  },
  {
   "cell_type": "code",
   "execution_count": 21,
   "metadata": {},
   "outputs": [
    {
     "data": {
      "text/plain": [
       "(array([  898.,   943.,  1035.,     0.,  1182.,  1285.,  1473.,     0.,\n",
       "         1619.,  1724.,     0.,  2100.,  2336.,  2741.,     0.,  3080.,\n",
       "         3628.,  4183.,     0.,  4489.,  5306.,     0.,  5990.,  6726.,\n",
       "         7682.,     0.,  8716.,  9697., 10730.,     0., 12269., 13278.,\n",
       "            0., 14768., 16205., 17574.,     0., 19252., 20711., 22399.,\n",
       "            0., 23973., 25434.,     0., 27253., 28605., 30035.,     0.,\n",
       "        31279., 32580., 33649.,     0., 34606., 35612.,     0., 36044.,\n",
       "        36707., 36655.,     0., 37262., 36793., 36462.,     0., 36162.,\n",
       "        35467.,     0., 34679., 33616., 32580.,     0., 31844., 30217.,\n",
       "        28698.,     0., 27575., 25862.,     0., 24316., 23208., 21449.,\n",
       "            0., 20034., 18661., 17234.,     0., 15806., 14977.,     0.,\n",
       "        13275., 12078., 11278.,     0., 10215.,  9301.,  8469.,     0.,\n",
       "         7772.,  6972.,     0.,  6241.,  5833.,  5268.,     0.,  5054.,\n",
       "         4442.,  4051.,     0.,  3826.,  3543.,     0.,  3176.,  3011.,\n",
       "         2957.,     0.,  2655.,  2468.,  2507.,     0.,  2171.,  2195.,\n",
       "            0.,  1986.,  1994.,  1916.,     0.,  1912.,  1902.,  1834.]),\n",
       " array([4303.75964391, 4307.22649509, 4310.69334628, 4314.16019746,\n",
       "        4317.62704865, 4321.09389983, 4324.56075101, 4328.0276022 ,\n",
       "        4331.49445338, 4334.96130457, 4338.42815575, 4341.89500693,\n",
       "        4345.36185812, 4348.8287093 , 4352.29556048, 4355.76241167,\n",
       "        4359.22926285, 4362.69611404, 4366.16296522, 4369.6298164 ,\n",
       "        4373.09666759, 4376.56351877, 4380.03036996, 4383.49722114,\n",
       "        4386.96407232, 4390.43092351, 4393.89777469, 4397.36462588,\n",
       "        4400.83147706, 4404.29832824, 4407.76517943, 4411.23203061,\n",
       "        4414.69888179, 4418.16573298, 4421.63258416, 4425.09943535,\n",
       "        4428.56628653, 4432.03313771, 4435.4999889 , 4438.96684008,\n",
       "        4442.43369127, 4445.90054245, 4449.36739363, 4452.83424482,\n",
       "        4456.301096  , 4459.76794718, 4463.23479837, 4466.70164955,\n",
       "        4470.16850074, 4473.63535192, 4477.1022031 , 4480.56905429,\n",
       "        4484.03590547, 4487.50275666, 4490.96960784, 4494.43645902,\n",
       "        4497.90331021, 4501.37016139, 4504.83701257, 4508.30386376,\n",
       "        4511.77071494, 4515.23756613, 4518.70441731, 4522.17126849,\n",
       "        4525.63811968, 4529.10497086, 4532.57182205, 4536.03867323,\n",
       "        4539.50552441, 4542.9723756 , 4546.43922678, 4549.90607796,\n",
       "        4553.37292915, 4556.83978033, 4560.30663152, 4563.7734827 ,\n",
       "        4567.24033388, 4570.70718507, 4574.17403625, 4577.64088744,\n",
       "        4581.10773862, 4584.5745898 , 4588.04144099, 4591.50829217,\n",
       "        4594.97514335, 4598.44199454, 4601.90884572, 4605.37569691,\n",
       "        4608.84254809, 4612.30939927, 4615.77625046, 4619.24310164,\n",
       "        4622.70995283, 4626.17680401, 4629.64365519, 4633.11050638,\n",
       "        4636.57735756, 4640.04420875, 4643.51105993, 4646.97791111,\n",
       "        4650.4447623 , 4653.91161348, 4657.37846466, 4660.84531585,\n",
       "        4664.31216703, 4667.77901822, 4671.2458694 , 4674.71272058,\n",
       "        4678.17957177, 4681.64642295, 4685.11327414, 4688.58012532,\n",
       "        4692.0469765 , 4695.51382769, 4698.98067887, 4702.44753005,\n",
       "        4705.91438124, 4709.38123242, 4712.84808361, 4716.31493479,\n",
       "        4719.78178597, 4723.24863716, 4726.71548834, 4730.18233953,\n",
       "        4733.64919071, 4737.11604189, 4740.58289308, 4744.04974426,\n",
       "        4747.51659544]),\n",
       " <BarContainer object of 128 artists>)"
      ]
     },
     "execution_count": 21,
     "metadata": {},
     "output_type": "execute_result"
    },
    {
     "data": {
      "image/png": "[encoded data removed]",
      "text/plain": [
       "<Figure size 432x288 with 1 Axes>"
      ]
     },
     "metadata": {
      "needs_background": "light"
     },
     "output_type": "display_data"
    }
   ],
   "source": [
    "#pathfinder(4300, 4750, 100, div=1000)\n",
    "pico5 = recorte(4300, 4750)\n",
    "plt.hist(pico5['Energia'], weights=pico5['Cuentas'], bins=128, color='skyblue', edgecolor='black', density=False)"
   ]
  },
  {
   "cell_type": "code",
   "execution_count": 22,
   "metadata": {},
   "outputs": [
    {
     "name": "stdout",
     "output_type": "stream",
     "text": [
      "Beta: [37262.45315615  4516.05438263 11378.76225838]\n",
      "Beta Std Error: [ 66.92028984   1.42223319 250.11436276]\n",
      "Beta Covariance: [[ 2.38850062e+01  4.50673933e-02 -5.56595709e+00]\n",
      " [ 4.50673933e-02  1.07882587e-02 -1.50629902e-01]\n",
      " [-5.56595709e+00 -1.50629902e-01  3.33646824e+02]]\n",
      "Residual Variance: 187.49524909819849\n",
      "Inverse Condition #: 0.0065884732440919195\n",
      "Reason(s) for Halting:\n",
      "  Sum of squares convergence\n"
     ]
    },
    {
     "data": {
      "text/plain": [
       "(525014.6602961456, 6403.761443479195, 12135.072740880712)"
      ]
     },
     "execution_count": 22,
     "metadata": {},
     "output_type": "execute_result"
    }
   ],
   "source": [
    "# Ajusto el pico 5 usando ODR y la funcion gausseana\n",
    "x = pico5['Energia']\n",
    "y = pico5['Cuentas']\n",
    "\n",
    "mydata = ODR.RealData(x, y)\n",
    "myodr = ODR.ODR(mydata, gauss, beta0=[37000, 4500., 9000.], maxit=10000)\n",
    "myoutput = myodr.run()\n",
    "myoutput.pprint()\n",
    "amp5 = myoutput.beta[0]\n",
    "cen5 = myoutput.beta[1]\n",
    "err_cen5 = myoutput.sd_beta[1]\n",
    "wid5 = myoutput.beta[2]\n",
    "\n",
    "amp, cen, wid"
   ]
  },
  {
   "cell_type": "code",
   "execution_count": 23,
   "metadata": {},
   "outputs": [
    {
     "data": {
      "image/png": "[encoded data removed]",
      "text/plain": [
       "<Figure size 432x288 with 1 Axes>"
      ]
     },
     "metadata": {
      "needs_background": "light"
     },
     "output_type": "display_data"
    },
    {
     "name": "stdout",
     "output_type": "stream",
     "text": [
      "El pico 5 tiene una energia de ( 4516.054382630058 +- 1.4222331926694407 keV y una altura de  525014.6602961456 cuentas\n"
     ]
    }
   ],
   "source": [
    "# Grafico el ajuste\n",
    "#plt.plot(x, y, 'ko')\n",
    "plt.hist(pico5['Energia'], weights=pico5['Cuentas'], bins=128, color='skyblue', edgecolor='black', density=False)\n",
    "plt.plot(x, f([amp5, cen5, wid5], x), color='red', linewidth=2)\n",
    "plt.xlabel('Energía')\n",
    "plt.ylabel('Cuentas')\n",
    "plt.show()\n",
    "\n",
    "print(\"El pico 5 tiene una energia de (\", cen5, \"+-\", myoutput.sd_beta[1] ,\"keV y una altura de \", amp, \"cuentas\")"
   ]
  },
  {
   "cell_type": "markdown",
   "metadata": {},
   "source": [
    "## Pico 6"
   ]
  },
  {
   "cell_type": "code",
   "execution_count": 24,
   "metadata": {},
   "outputs": [
    {
     "data": {
      "text/plain": [
       "(array([ 1708.,  1812.,     0.,  1927.,  1984.,     0.,  2258.,  2346.,\n",
       "            0.,  2626.,  2924.,     0.,  3158.,  3541.,     0.,  3799.,\n",
       "         4170.,     0.,  4756.,     0.,  5342.,  5899.,     0.,  6256.,\n",
       "         6964.,     0.,  7636.,  8270.,     0.,  9188., 10183.,     0.,\n",
       "        11170., 12148.,     0., 13110.,     0., 14101., 15169.,     0.,\n",
       "        16386., 17428.,     0., 18243., 19666.,     0., 20404., 21515.,\n",
       "            0., 22627., 23205.,     0., 24409., 24836.,     0., 25461.,\n",
       "            0., 26566., 27069.,     0., 27043., 27909.,     0., 27890.,\n",
       "        27942.,     0., 27705., 27481.,     0., 27477., 26689.,     0.,\n",
       "        26295.,     0., 25553., 24753.,     0., 24049., 23417.,     0.,\n",
       "        22684., 21314.,     0., 20478., 19686.,     0., 18345., 17158.,\n",
       "            0., 16681., 15278.,     0., 14536.,     0., 13359., 12569.,\n",
       "            0., 11655., 10959.,     0., 10099.,  9380.,     0.,  8758.,\n",
       "         8043.,     0.,  7447.,  6956.,     0.,  6507.,     0.,  6108.,\n",
       "         5748.,     0.,  5319.,  5141.,     0.,  4804.,  4697.,     0.,\n",
       "         4380.,  4299.,     0.,  4140.,  4219.,     0.,  4019.,  4055.]),\n",
       " array([5701.83262025, 5704.92669174, 5708.02076322, 5711.11483471,\n",
       "        5714.2089062 , 5717.30297768, 5720.39704917, 5723.49112066,\n",
       "        5726.58519214, 5729.67926363, 5732.77333512, 5735.8674066 ,\n",
       "        5738.96147809, 5742.05554958, 5745.14962106, 5748.24369255,\n",
       "        5751.33776404, 5754.43183552, 5757.52590701, 5760.6199785 ,\n",
       "        5763.71404998, 5766.80812147, 5769.90219296, 5772.99626444,\n",
       "        5776.09033593, 5779.18440742, 5782.2784789 , 5785.37255039,\n",
       "        5788.46662188, 5791.56069336, 5794.65476485, 5797.74883634,\n",
       "        5800.84290782, 5803.93697931, 5807.0310508 , 5810.12512228,\n",
       "        5813.21919377, 5816.31326526, 5819.40733674, 5822.50140823,\n",
       "        5825.59547972, 5828.6895512 , 5831.78362269, 5834.87769418,\n",
       "        5837.97176566, 5841.06583715, 5844.15990864, 5847.25398012,\n",
       "        5850.34805161, 5853.4421231 , 5856.53619458, 5859.63026607,\n",
       "        5862.72433756, 5865.81840904, 5868.91248053, 5872.00655202,\n",
       "        5875.1006235 , 5878.19469499, 5881.28876648, 5884.38283796,\n",
       "        5887.47690945, 5890.57098094, 5893.66505242, 5896.75912391,\n",
       "        5899.8531954 , 5902.94726688, 5906.04133837, 5909.13540986,\n",
       "        5912.22948134, 5915.32355283, 5918.41762432, 5921.5116958 ,\n",
       "        5924.60576729, 5927.69983878, 5930.79391026, 5933.88798175,\n",
       "        5936.98205324, 5940.07612472, 5943.17019621, 5946.2642677 ,\n",
       "        5949.35833918, 5952.45241067, 5955.54648216, 5958.64055364,\n",
       "        5961.73462513, 5964.82869662, 5967.9227681 , 5971.01683959,\n",
       "        5974.11091108, 5977.20498256, 5980.29905405, 5983.39312554,\n",
       "        5986.48719702, 5989.58126851, 5992.67534   , 5995.76941148,\n",
       "        5998.86348297, 6001.95755446, 6005.05162594, 6008.14569743,\n",
       "        6011.23976892, 6014.3338404 , 6017.42791189, 6020.52198338,\n",
       "        6023.61605486, 6026.71012635, 6029.80419784, 6032.89826932,\n",
       "        6035.99234081, 6039.0864123 , 6042.18048378, 6045.27455527,\n",
       "        6048.36862676, 6051.46269824, 6054.55676973, 6057.65084122,\n",
       "        6060.7449127 , 6063.83898419, 6066.93305568, 6070.02712716,\n",
       "        6073.12119865, 6076.21527014, 6079.30934162, 6082.40341311,\n",
       "        6085.4974846 , 6088.59155608, 6091.68562757, 6094.77969906,\n",
       "        6097.87377054]),\n",
       " <BarContainer object of 128 artists>)"
      ]
     },
     "execution_count": 24,
     "metadata": {},
     "output_type": "execute_result"
    },
    {
     "data": {
      "image/png": "[encoded data removed]",
      "text/plain": [
       "<Figure size 432x288 with 1 Axes>"
      ]
     },
     "metadata": {
      "needs_background": "light"
     },
     "output_type": "display_data"
    }
   ],
   "source": [
    "#pathfinder(5700, 6100, 50, div=1000)\n",
    "pico6 = recorte(5700, 6100)\n",
    "plt.hist(pico6['Energia'], weights=pico6['Cuentas'], bins=128, color='skyblue', edgecolor='black', density=False)"
   ]
  },
  {
   "cell_type": "code",
   "execution_count": 25,
   "metadata": {},
   "outputs": [
    {
     "name": "stdout",
     "output_type": "stream",
     "text": [
      "Beta: [27939.58283544  5903.87515101 12929.8094274 ]\n",
      "Beta Std Error: [ 14.84802217   1.39412638 311.62851315]\n",
      "Beta Covariance: [[ 1.36673731e+00  5.72696728e-03 -5.67119910e-01]\n",
      " [ 5.72696728e-03  1.20490311e-02  9.19209265e-02]\n",
      " [-5.67119910e-01  9.19209265e-02  6.02035650e+02]]\n",
      "Residual Variance: 161.30661056601178\n",
      "Inverse Condition #: 0.00468426188171237\n",
      "Reason(s) for Halting:\n",
      "  Sum of squares convergence\n"
     ]
    }
   ],
   "source": [
    "# Ajusto el pico 6 usando ODR y la funcion gausseana\n",
    "x = pico6['Energia']\n",
    "y = pico6['Cuentas']\n",
    "\n",
    "mydata = ODR.RealData(x, y)\n",
    "myodr = ODR.ODR(mydata, gauss, beta0=[26000, 5900., 9000.], maxit=10000)\n",
    "myoutput = myodr.run()\n",
    "myoutput.pprint()\n",
    "amp6 = myoutput.beta[0]\n",
    "cen6 = myoutput.beta[1]\n",
    "err_cen6 = myoutput.sd_beta[1]\n",
    "wid6 = myoutput.beta[2]"
   ]
  },
  {
   "cell_type": "code",
   "execution_count": 26,
   "metadata": {},
   "outputs": [
    {
     "data": {
      "image/png": "[encoded data removed]",
      "text/plain": [
       "<Figure size 432x288 with 1 Axes>"
      ]
     },
     "metadata": {
      "needs_background": "light"
     },
     "output_type": "display_data"
    },
    {
     "name": "stdout",
     "output_type": "stream",
     "text": [
      "El pico 6 tiene una energia de ( 5903.8751510091115 +- 1.3941263825890473 keV y una altura de  525014.6602961456 cuentas\n"
     ]
    }
   ],
   "source": [
    "#Grafico el ajuste\n",
    "#plt.plot(x, y, 'ko')\n",
    "plt.hist(pico6['Energia'], weights=pico6['Cuentas'], bins=128, color='skyblue', edgecolor='black', density=False)\n",
    "plt.plot(x, f([amp6, cen6, wid6], x), color='red', linewidth=2)\n",
    "plt.xlabel('Energía')\n",
    "plt.ylabel('Cuentas')\n",
    "plt.show()\n",
    "\n",
    "print(\"El pico 6 tiene una energia de (\", cen6, \"+-\", err_cen6 ,\"keV y una altura de \", amp, \"cuentas\")"
   ]
  },
  {
   "cell_type": "markdown",
   "metadata": {},
   "source": [
    "# Resumen"
   ]
  },
  {
   "cell_type": "code",
   "execution_count": 31,
   "metadata": {},
   "outputs": [
    {
     "name": "stdout",
     "output_type": "stream",
     "text": [
      "N° de pico \t Energia (eV) \t\t\t\t Altura\n",
      "1 - Hierro Ka: \t 6403.761443479195 + 3.521135665075976 \t 0.7771183672065594\n",
      "2 - Hierro Kb: \t 7068.785080197843 + 1.6697093168970154 \t 0.12239112885280148\n",
      "3 - Argón Ka:\t 2951.3617399402733 + 0.490155556711837 \t 0.06743830431586469\n",
      "4 - Calcio Ka:\t 3686.011563749046 + 1.0555537857157804 \t 0.05913477688101388\n",
      "5 - Titanio Ka:\t 4516.054382630058 + 1.4222331926694407 \t 0.055155291736970966\n",
      "6 - Manganeso Ka:\t 5903.8751510091115 + 1.3941263825890473 \t 0.04135572705962525\n"
     ]
    }
   ],
   "source": [
    "print(\"N° de pico \\t Energia (eV) \\t\\t\\t\\t Altura\")\n",
    "print(\"1 - Hierro Ka: \\t\", cen, \"+\", err_cen, \"\\t\", amp)\n",
    "print(\"2 - Hierro Kb: \\t\", cen2,\"+\", err_cen2 ,\"\\t\", amp2)\n",
    "print(\"3 - Argón Ka:\\t\", cen3,\"+\", err_cen3 ,\"\\t\", amp3)\n",
    "print(\"4 - Calcio Ka:\\t\", cen4,\"+\", err_cen4 ,\"\\t\", amp4)\n",
    "print(\"5 - Titanio Ka:\\t\", cen5,\"+\", err_cen5 ,\"\\t\", amp5)\n",
    "print(\"6 - Manganeso Ka:\\t\", cen6,\"+\", err_cen6 ,\"\\t\", amp6)\n"
   ]
  },
  {
   "cell_type": "code",
   "execution_count": 30,
   "metadata": {},
   "outputs": [],
   "source": [
    "# Normalizo las alturas de los amp\n",
    "ampT = amp + amp2 + amp4  + amp6\n",
    "amp = amp/ampT\n",
    "amp2 = amp2/ampT\n",
    "amp3 = amp3/ampT\n",
    "amp4 = amp4/ampT\n",
    "amp5 = amp5/ampT\n",
    "amp6 = amp6/ampT"
   ]
  }
 ],
 "metadata": {
  "kernelspec": {
   "display_name": "Python 3",
   "language": "python",
   "name": "python3"
  },
  "language_info": {
   "codemirror_mode": {
    "name": "ipython",
    "version": 3
   },
   "file_extension": ".py",
   "mimetype": "text/x-python",
   "name": "python",
   "nbconvert_exporter": "python",
   "pygments_lexer": "ipython3",
   "version": "3.9.0"
  }
 },
 "nbformat": 4,
 "nbformat_minor": 2
}
