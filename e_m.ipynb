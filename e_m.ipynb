{
 "cells": [
  {
   "cell_type": "code",
   "execution_count": 1,
   "metadata": {},
   "outputs": [],
   "source": [
    "import matplotlib.pyplot as plt\n",
    "import numpy as np\n",
    "from matplotlib import style"
   ]
  },
  {
   "cell_type": "code",
   "execution_count": 2,
   "metadata": {},
   "outputs": [],
   "source": [
    "#Constantes\n",
    "mu_0 = 4*np.pi*1e-7\n",
    "n = 154 #vueltas: 130 para PASCO y 154 para el otro (PHYWE)\n",
    "a = 0.2 #radio del solenoide: 0.15 para PASCO y 0.2 para el otro (PHYWE)"
   ]
  },
  {
   "cell_type": "code",
   "execution_count": 3,
   "metadata": {},
   "outputs": [],
   "source": [
    "#Medidas con V cte en 150\n",
    "#-------\n",
    "i11 = 1.02 #de radio mas grande a mas chico\n",
    "i12 = 1.28\n",
    "i13 = 1.74\n",
    "i14 = 2.76\n",
    "# -- V cte en 200\n",
    "i21 = 1.21\n",
    "i22 = 1.53\n",
    "i23 = 2.06\n",
    "i24 = 3.20\n",
    "# -- V cte en 250\n",
    "i31 = 1.43\n",
    "i32 = 1.76\n",
    "i33 = 2.37\n",
    "i34 = 3.68\n",
    "# -- V cte en 300\n",
    "i41 = 1.56\n",
    "i42 = 1.94\n",
    "i43 = 2.62\n",
    "i44 = 4.03\n",
    "#------- Medidas con I cte en 1.06\n",
    "v11 = 158\n",
    "v12 = 122\n",
    "#v13 = 133 # Medida Descartable - rara ???? // DESCARTADA\n",
    "v14 = 79\n",
    "# -- I cte en 2.09\n",
    "v21 = 00 #no llega a medir\n",
    "v22 = 00\n",
    "v23 = 200 #radio 3/100\n",
    "v24 = 105 #radio 2/100\n",
    "# -- I cte en 2.43\n",
    "v31 = 000\n",
    "v32 = 000 #no llega a medir\n",
    "v33 = 272 #radio 3/100\n",
    "v34 = 123 #radio 2/100\n",
    "# -- I cte en 1.5\n",
    "v41 = 282 #radio 5/100\n",
    "v42 = 195\n",
    "v43 = 131\n",
    "v44 = 107\n",
    "# -- I cte en 0.8 --- Descartamos al tener un I menor que 1A? (campo magnetico de la tierra NO despreciable) \n",
    "v51 = 112\n",
    "v52 = 000 # Este radio lo salta\n",
    "v53 = 104\n",
    "v54 = 79\n",
    "\n",
    "\n",
    "\n",
    "\n",
    "#-- Medidas con v cte en 150\n",
    "corriente150 = [i11, i12, i13, i14]\n",
    "voltaje150 = [150, 150, 150 ,150]\n",
    "#-- Medidas con v cte en 200\n",
    "corriente200 = [i21, i22, i23, i24]\n",
    "voltaje200 = [200, 200, 200 ,200]\n",
    "#-- Medidas con v cte en 250\n",
    "corriente250 = [i31, i32, i33, i34]\n",
    "voltaje250 = [250, 250, 250 ,250]\n",
    "# -- Medidas con v cte en 300\n",
    "corriente300 = [i41, i42, i43, i44]\n",
    "voltaje300 = [300, 300, 300 ,300]\n",
    "#----- ------- Medidas con I cte en 1.06\n",
    "corriente1 = [1.06, 1.06, 1.06]\n",
    "voltaje1 = [v11, v12, v14]\n",
    "# -- Medidas con I cte en 2.09\n",
    "corriente2 = [2.09, 2.09]\n",
    "voltaje2 = [v23, v24] #los 2 radios mas chicos, 3cm y 2cm\n",
    "# -- Medidas con I cte en 2.43\n",
    "corriente3 = [2.43,2.43]\n",
    "voltaje3 = [v33, v34]\n",
    "# -- Medidas con I cte en 1.5\n",
    "corriente4 = [1.5, 1.5, 1.5, 1.5]\n",
    "voltaje4 = [v41, v42, v43, v44]\n",
    "# -- Medidas con I cte en 0.8\n",
    "corriente5 = [0.8, 0.8, 0.8]\n",
    "voltaje5= [v51, v53, v54]\n",
    "\n",
    "#------ RADIOS\n",
    "radios = [5/100, 4/100, 3/100, 2/100]"
   ]
  },
  {
   "cell_type": "code",
   "execution_count": 4,
   "metadata": {},
   "outputs": [],
   "source": [
    "#ERRORES DE MEDIDAS \n",
    "#Para I es 2% de la medida + 0.05A\n",
    "#Para V es 0.8% de la medida + 2V\n",
    "#Para R es 0.2/100 (falta medirlo y definirlo)\n",
    "err_R = 0.2/100\n",
    "err_R2 = [2.0e-04, 1.6e-04, 1.2e-04, 8.0e-05]\n",
    "\n",
    "def calc_errI(I):\n",
    "    error_I = np.multiply(0.02, I) + 0.05\n",
    "    return error_I\n",
    "\n",
    "#def calc_errV(V):\n",
    "#    error_V = np.multiply(0.008, V) + 2\n",
    "#    return error_V\n",
    "\n",
    "#CALCULO ERROR DE 2V\n",
    "def calc_err2V(V):\n",
    "    error_V = np.multiply(0.008, V) + 2 #Calculo error de V\n",
    "    error_2V = np.multiply(2, error_V) #Calculo error de 2V\n",
    "    return error_2V\n",
    "\n",
    "#CALCULO EROR R2\n",
    "def calc_errR2(R):\n",
    "    error_R = np.multiply(2,np.multiply(err_R, R))\n",
    "    return error_R\n",
    "\n",
    "#CALCULO ERROR DE B^2R^2\n",
    "def calc_errB2R2(I, R, err_I, err_R):\n",
    "    magnetic_sinI = np.divide((n*mu_0), np.power(5/4,3/2)*a)\n",
    "    err_I = np.multiply(np.multiply(np.multiply(err_I,np.power(magnetic_sinI,2)),np.power(R,2)),np.multiply(2,I))\n",
    "    \n",
    "    err_R = np.multiply(np.multiply(np.multiply(err_R,np.power(magnetic_sinI,2)),np.power(I,2)),np.multiply(2,R))\n",
    "    err_tot = np.sqrt(np.power(err_I,2) + np.power(err_R,2))\n",
    "    \n",
    "    return err_tot\n",
    "\n",
    "#CALCULO ERROR DE 2V/B^2\n",
    "def calc_err2V_B2(I, V, err_I, err_V):\n",
    "    magnetic_sinI = np.divide((n*mu_0), np.power(5/4,3/2)*a)\n",
    "    c_err_I = np.multiply(np.divide(np.multiply(2,V),np.multiply(magnetic_sinI, np.power(I,3))),err_I)\n",
    "    \n",
    "    c_err_V = np.multiply(np.divide(np.multiply(2,np.divide(1,np.power(magnetic_sinI,2))),np.power(I,2)),err_V)\n",
    "    err_tot = np.sqrt(np.power(c_err_I,2) + np.power(c_err_V,2))\n",
    "    \n",
    "    return err_tot\n",
    "\n",
    "#prueba = calc_errB2R2(corriente1, [5/100,4/100,2/100], calc_errI(corriente1), calc_errR2([5/100,4/100,2/100]))\n",
    "#print(prueba)\n",
    "#test2 = calc_err2V_B2(corriente150, voltaje150, calc_errI(corriente150), np.divide(calc_err2V(voltaje150),2))\n",
    "#print(test2)"
   ]
  },
  {
   "cell_type": "code",
   "execution_count": 5,
   "metadata": {},
   "outputs": [],
   "source": [
    "def calc_e_m(voltaje, corriente, radios):\n",
    "    magnetico = np.multiply(np.power(4/5,3/2), np.multiply(mu_0, np.multiply(n, np.divide(corriente, a))))\n",
    "    #print(\"-------Valores de B obtenidos:-------\")\n",
    "    #print(magnetico)\n",
    "    #print(\"-------Valores de e/m obtenidos:-------\")\n",
    "    e_m = np.divide(np.multiply(2, voltaje), np.multiply(np.power(magnetico,2), np.power(radios,2)))\n",
    "    print(e_m)\n",
    "    return e_m"
   ]
  },
  {
   "cell_type": "code",
   "execution_count": 6,
   "metadata": {},
   "outputs": [
    {
     "name": "stdout",
     "output_type": "stream",
     "text": [
      "---------Voltaje const en 150\n",
      "[2.40607834e+11 2.38731756e+11 2.29672559e+11 2.05386531e+11]\n",
      "---------Voltaje const en 200\n",
      "[2.27970212e+11 2.22785031e+11 2.18480108e+11 2.03717766e+11]\n",
      "---------Voltaje const en 250\n",
      "[2.04026595e+11 2.10452237e+11 2.06328710e+11 1.92549873e+11]\n",
      "---------Voltaje const en 300\n",
      "[2.05726816e+11 2.07853178e+11 2.02597937e+11 1.92668194e+11]\n",
      "#### CORRIENTE CONSTANTE\n",
      "---------Corriente const en 1.06\n",
      "[2.34673583e+11 2.83130707e+11 7.33354947e+11]\n",
      "---------Corriente const en 2.09\n",
      "[2.12252967e+11 2.50723818e+11]\n",
      "---------Corriente const en 2.43\n",
      "[2.13536787e+11 2.17265830e+11]\n",
      "---------Corriente const en 1.5\n",
      "[2.09163277e+11 2.25990908e+11 2.69901392e+11 4.96021070e+11]\n",
      "---------Corriente const en 0.8\n",
      "[2.92049789e+11 7.53303026e+11 1.28749628e+12]\n"
     ]
    }
   ],
   "source": [
    "\n",
    "print(\"---------Voltaje const en 150\")\n",
    "e_v150 = calc_e_m(voltaje150, corriente150, radios)\n",
    "print(\"---------Voltaje const en 200\")\n",
    "e_v200 = calc_e_m(voltaje200, corriente200, radios)\n",
    "print(\"---------Voltaje const en 250\")\n",
    "e_v250 = calc_e_m(voltaje250, corriente250, radios)\n",
    "print(\"---------Voltaje const en 300\")\n",
    "e_v300 = calc_e_m(voltaje300, corriente300, radios)\n",
    "print(\"#### CORRIENTE CONSTANTE\")\n",
    "print(\"---------Corriente const en 1.06\")\n",
    "e_c1 = calc_e_m(voltaje1, corriente1, [5/100,4/100,2/100])\n",
    "print(\"---------Corriente const en 2.09\")\n",
    "e_c2 = calc_e_m(voltaje2, corriente2, [3/100,2/100])\n",
    "print(\"---------Corriente const en 2.43\")\n",
    "e_c3 = calc_e_m(voltaje3, corriente3, [3/100,2/100])\n",
    "print(\"---------Corriente const en 1.5\")\n",
    "e_c4 = calc_e_m(voltaje4, corriente4, radios)\n",
    "print(\"---------Corriente const en 0.8\")\n",
    "e_c5 = calc_e_m(voltaje5, corriente5, [5/100,3/100,2/100])"
   ]
  },
  {
   "cell_type": "code",
   "execution_count": 7,
   "metadata": {},
   "outputs": [],
   "source": [
    "magnetico1 = np.multiply(mu_0, np.multiply(n, np.divide(corriente1, np.multiply(a,np.power(5/4,3/2)))))\n",
    "magnetico2 = np.multiply(np.power(4/5,3/2), np.multiply(mu_0, np.multiply(n, np.divide(corriente2, a))))\n",
    "magnetico3 = np.multiply(np.power(4/5,3/2), np.multiply(mu_0, np.multiply(n, np.divide(corriente3, a))))\n",
    "magnetico4 = np.multiply(np.power(4/5,3/2), np.multiply(mu_0, np.multiply(n, np.divide(corriente4, a))))\n",
    "magnetico5 = np.multiply(np.power(4/5,3/2), np.multiply(mu_0, np.multiply(n, np.divide(corriente5, a))))\n",
    "magnetico150 = np.multiply(np.power(4/5,3/2), np.multiply(mu_0, np.multiply(n, np.divide(corriente150, a))))\n",
    "magnetico200 = np.multiply(np.power(4/5,3/2), np.multiply(mu_0, np.multiply(n, np.divide(corriente200, a))))\n",
    "magnetico250 = np.multiply(np.power(4/5,3/2), np.multiply(mu_0, np.multiply(n, np.divide(corriente250, a))))\n",
    "magnetico300 = np.multiply(np.power(4/5,3/2), np.multiply(mu_0, np.multiply(n, np.divide(corriente300, a))))"
   ]
  },
  {
   "cell_type": "code",
   "execution_count": 8,
   "metadata": {},
   "outputs": [
    {
     "data": {
      "image/png": "[encoded data removed]",
      "text/plain": [
       "<Figure size 432x288 with 1 Axes>"
      ]
     },
     "metadata": {
      "needs_background": "light"
     },
     "output_type": "display_data"
    }
   ],
   "source": [
    "#Graficar magentico al cuadrado * radio al cuadrado vs 2*voltaje\n",
    "#GRAFICOS PARA I CONSTANTE Y VOLTAJE: SE GRAFICA B^2 * R^2 vs 2V\n",
    "plt.plot(np.multiply(np.power(magnetico1,2), np.power([5/100,4/100,2/100],2)), np.multiply(2, voltaje1), 'ro')\n",
    "plt.plot(np.multiply(np.power(magnetico2,2), np.power([3/100,2/100],2)), np.multiply(2, voltaje2), 'bo')\n",
    "plt.plot(np.multiply(np.power(magnetico3,2), np.power([3/100,2/100],2)), np.multiply(2, voltaje3), 'go')\n",
    "plt.plot(np.multiply(np.power(magnetico4,2), np.power(radios,2)), np.multiply(2, voltaje4), 'yo')\n",
    "plt.grid(True)\n",
    "plt.xlabel('$B^2R^2$')\n",
    "plt.ylabel('2V')\n",
    "plt.show()\n"
   ]
  },
  {
   "cell_type": "code",
   "execution_count": 9,
   "metadata": {},
   "outputs": [
    {
     "data": {
      "image/png": "[encoded data removed]",
      "text/plain": [
       "<Figure size 432x288 with 1 Axes>"
      ]
     },
     "metadata": {
      "needs_background": "light"
     },
     "output_type": "display_data"
    }
   ],
   "source": [
    "#Grafico para V constante. se grafica R^2 vs 2V/B^2\n",
    "plt.plot(np.power(radios,2), np.divide(np.multiply(2, voltaje150), np.power(magnetico150,2)), 'ro', label='150V')\n",
    "plt.plot(np.power(radios,2), np.divide(np.multiply(2, voltaje200), np.power(magnetico200,2)), 'bo', label='200V')\n",
    "plt.plot(np.power(radios,2), np.divide(np.multiply(2, voltaje250), np.power(magnetico250,2)), 'go', label='250V')\n",
    "plt.plot(np.power(radios,2), np.divide(np.multiply(2, voltaje300), np.power(magnetico300,2)), 'yo', label='300V')\n",
    "plt.grid(True)\n",
    "plt.xlabel('$R^2$')\n",
    "plt.ylabel(r'$\\frac{2V}{B^{2}}$')\n",
    "plt.legend()\n",
    "plt.show()"
   ]
  },
  {
   "cell_type": "code",
   "execution_count": 10,
   "metadata": {},
   "outputs": [],
   "source": [
    "#Unir los puntos de los graficos anteriores en un solo array\n",
    "magneticoI = np.concatenate((magnetico1, magnetico2, magnetico3, magnetico4), axis=None)\n",
    "radiosI = np.concatenate(([5/100,4/100,2/100], [3/100,2/100], [3/100,2/100], radios), axis=None)\n",
    "voltajeI = np.concatenate((voltaje1, voltaje2, voltaje3, voltaje4), axis=None)\n",
    "B2R2 = np.multiply(np.power(magneticoI,2), np.power(radiosI,2))\n",
    "dV = np.multiply(2, voltajeI)"
   ]
  },
  {
   "cell_type": "code",
   "execution_count": 11,
   "metadata": {},
   "outputs": [
    {
     "name": "stdout",
     "output_type": "stream",
     "text": [
      "Beta: [2.60976015e+11]\n",
      "Beta Std Error: [3.01295826e+10]\n",
      "Beta Covariance: [[5.62069047e+18]]\n",
      "Residual Variance: 161.5089372696142\n",
      "Inverse Condition #: 1.0\n",
      "Reason(s) for Halting:\n",
      "  Sum of squares convergence\n"
     ]
    }
   ],
   "source": [
    "#import statsmodels.api as sm\n",
    "#model = sm.OLS(dV, B2R2)\n",
    "#results = model.fit()\n",
    "#print(results.summary())\n",
    "#results.params\n",
    "\n",
    "#make linear fit with ODR \n",
    "from scipy.odr import *\n",
    "#def linear_func(p, x):\n",
    "#    m, c = p\n",
    "#    return m*x + c\n",
    "\n",
    "#linear_model = Model(linear_func)\n",
    "#data = RealData(B2R2, dV)\n",
    "#odr = ODR(data, linear_model, beta0=[1.6e+11, 0])\n",
    "#out = odr.run()\n",
    "#out.pprint()\n",
    "\n",
    "#Ajuste proporcional\n",
    "def prop_func(p, x):\n",
    "    m = p\n",
    "    return m*x\n",
    "\n",
    "prop_model = Model(prop_func)\n",
    "data_propI = RealData(B2R2, dV, sx=np.multiply(2, np.multiply(0.01, B2R2)), sy=np.multiply(2, np.multiply(0.01, dV)))\n",
    "odr_propI = ODR(data_propI, prop_model, beta0=[1.6e+11])\n",
    "out_propI = odr_propI.run()\n",
    "out_propI.pprint()\n",
    "\n"
   ]
  },
  {
   "cell_type": "code",
   "execution_count": 12,
   "metadata": {},
   "outputs": [],
   "source": [
    "#Ajustar sólo el primer grupo de datos con ajuste proporcional\n",
    "B2R2_1 = np.multiply(np.power(magnetico1,2), np.power([5/100,4/100,2/100],2))\n",
    "err_sx = calc_errB2R2(corriente1, [5/100,4/100,2/100], calc_errI(corriente1), calc_errR2([5/100,4/100,2/100]))\n",
    "err_sy = calc_err2V(voltaje1)\n",
    "#print(err_sx, err_sy)\n",
    "#print(B2R2_1, np.multiply(2, voltaje1))\n",
    "B2R2_2 = np.multiply(np.power(magnetico2,2), np.power([3/100,2/100],2))\n",
    "err_sx2 = calc_errB2R2(corriente2, [3/100,2/100], calc_errI(corriente2), calc_errR2([3/100,2/100]))\n",
    "err_sy2 = calc_err2V(voltaje2)\n",
    "B2R2_3 = np.multiply(np.power(magnetico3,2), np.power([3/100,2/100],2))\n",
    "err_sx3 = calc_errB2R2(corriente3, [3/100,2/100], calc_errI(corriente3), calc_errR2([3/100,2/100]))\n",
    "err_sy3 = calc_err2V(voltaje3)\n",
    "B2R2_4 = np.multiply(np.power(magnetico4,2), np.power(radios,2))\n",
    "err_sx4 = calc_errB2R2(corriente4, radios, calc_errI(corriente4), calc_errR2(radios))\n",
    "err_sy4 = calc_err2V(voltaje4)\n",
    "B2R2_5 = np.multiply(np.power(magnetico5,2), np.power([5/100,3/100,2/100],2))\n",
    "err_sx5 = calc_errB2R2(corriente5, [5/100,3/100,2/100], calc_errI(corriente5), calc_errR2([5/100,3/100,2/100]))\n",
    "err_sy5 = calc_err2V(voltaje5)"
   ]
  },
  {
   "cell_type": "code",
   "execution_count": 13,
   "metadata": {},
   "outputs": [
    {
     "name": "stdout",
     "output_type": "stream",
     "text": [
      "Beta: [2.10553552e+11 7.60000000e+00]\n",
      "Beta Std Error: [4.98811072e-04 7.36604646e-13]\n",
      "Beta Covariance: [[ 1.19641739e+21 -1.64684260e+12]\n",
      " [-1.64684260e+12  2.60903230e+03]]\n",
      "Residual Variance: 2.0796461789693474e-28\n",
      "Inverse Condition #: 5.3480044217022355e-09\n",
      "Reason(s) for Halting:\n",
      "  Parameter convergence\n"
     ]
    }
   ],
   "source": [
    "#Ajustar b2r2_1 con ajuste lineal\n",
    "def linear_func(p, x):\n",
    "    m, c = p\n",
    "    return m*x + c\n",
    "\n",
    "linear_model = Model(linear_func)\n",
    "data = RealData(B2R2_1, np.multiply(2, voltaje1), sx=err_sx, sy=err_sy)\n",
    "odr = ODR(data, linear_model, beta0=[1.6e+11, 0])\n",
    "odr.set_job(fit_type=0)\n",
    "out = odr.run()\n",
    "#out.pprint()\n",
    "\n",
    "#Ajustar b232_4 con ajuste lineal\n",
    "data4 = RealData(B2R2_4, np.multiply(2, voltaje4), sx=err_sx4, sy=err_sy4)\n",
    "odr4 = ODR(data4, linear_model, beta0=[1.6e+11, 0])\n",
    "odr4.set_job(fit_type=0)\n",
    "out4 = odr4.run()\n",
    "#out4.pprint()\n",
    "\n",
    "#akistar b2r2_2 con ajuste lineal\n",
    "data2 = RealData(B2R2_2, np.multiply(2, voltaje2), sx=err_sx2, sy=err_sy2)\n",
    "odr2 = ODR(data2, linear_model, beta0=[1.6e+11, 0])\n",
    "odr2.set_job(fit_type=0)\n",
    "out2 = odr2.run()\n",
    "#out2.pprint()\n",
    "\n",
    "#ajustar b2r2_3 con ajuste lineal\n",
    "data3 = RealData(B2R2_3, np.multiply(2, voltaje3), sx=err_sx3, sy=err_sy3)\n",
    "odr3 = ODR(data3, linear_model, beta0=[1.6e+11, 0])\n",
    "odr3.set_job(fit_type=0)\n",
    "out3 = odr3.run()\n",
    "out3.pprint()\n"
   ]
  },
  {
   "cell_type": "code",
   "execution_count": 14,
   "metadata": {},
   "outputs": [
    {
     "name": "stdout",
     "output_type": "stream",
     "text": [
      "Beta: [1.37115218e+11 1.28290941e+02]\n",
      "Beta Std Error: [3.55915454e+09 1.70103847e+00]\n",
      "Beta Covariance: [[ 3.52800222e+20 -1.25757184e+11]\n",
      " [-1.25757184e+11  8.05867111e+01]]\n",
      "Residual Variance: 0.03590581938705114\n",
      "Inverse Condition #: 3.1837166217429242e-09\n",
      "Reason(s) for Halting:\n",
      "  Sum of squares convergence\n"
     ]
    }
   ],
   "source": [
    "data_propI1 = RealData(B2R2_1, np.multiply(2,voltaje1), sx=err_sx, sy=err_sy)\n",
    "#make more accuarate fit\n",
    "odr_propI1 = ODR(data_propI1, linear_model, beta0=[1.6e+11, 0])\n",
    "out_propI1 = odr_propI1.run()\n",
    "out_propI1.pprint()"
   ]
  },
  {
   "cell_type": "code",
   "execution_count": 15,
   "metadata": {},
   "outputs": [
    {
     "data": {
      "image/png": "[encoded data removed]",
      "text/plain": [
       "<Figure size 432x288 with 1 Axes>"
      ]
     },
     "metadata": {
      "needs_background": "light"
     },
     "output_type": "display_data"
    }
   ],
   "source": [
    "\n",
    "#Graficar datos anteriores con ajuste propricoinal y barras de errores\n",
    "plt.errorbar(B2R2_1, np.multiply(2,voltaje1), xerr=calc_errB2R2(corriente1, [5/100,4/100,2/100], calc_errI(corriente1), calc_errR2([5/100,4/100,2/100])), yerr=calc_err2V(voltaje1), fmt='ko', ecolor='b', capsize=5, label='1.06A')\n",
    "#plt.plot(B2R2_1, np.multiply(2,voltaje1), 'ro')\n",
    "#plt.plot(B2R2_1, out_propI1.beta[0]*B2R2_1, 'r')\n",
    "#plot linear fit\n",
    "plt.plot(B2R2_1, out.beta[0]*B2R2_1 + out.beta[1], 'r', label='Ajuste lineal')\n",
    "plt.grid(True)\n",
    "plt.legend()\n",
    "plt.xlabel('$B^2R^2$ $(T^2m^2)$')\n",
    "plt.ylabel('2V (V)')\n",
    "#print(plt.style.available)\n",
    "plt.style.use('fast')\n",
    "plt.show()"
   ]
  },
  {
   "cell_type": "code",
   "execution_count": 89,
   "metadata": {},
   "outputs": [
    {
     "data": {
      "image/png": "[encoded data removed]",
      "text/plain": [
       "<Figure size 432x288 with 1 Axes>"
      ]
     },
     "metadata": {
      "needs_background": "light"
     },
     "output_type": "display_data"
    }
   ],
   "source": [
    "#plot all data con I constante sin ajuste y sin barras de error\n",
    "#plt.plot(B2R2_5, np.multiply(2,voltaje5), 'mo', label='0.8A')\n",
    "#plt.plot(B2R2_1, np.multiply(2,voltaje1), 'ro', label='1.06A')\n",
    "#plt.plot(B2R2_4, np.multiply(2,voltaje4), 'yo', label='1.5A')\n",
    "#plt.plot(B2R2_2, np.multiply(2,voltaje2), 'bo', label='2.09A')\n",
    "plt.plot(B2R2_3, np.multiply(2,voltaje3), 'go', label='2.43A')\n",
    "plt.grid(True)\n",
    "plt.xlabel('$B^2R^2$')\n",
    "plt.ylabel('2V')\n",
    "plt.legend()\n",
    "plt.show()"
   ]
  },
  {
   "cell_type": "code",
   "execution_count": 17,
   "metadata": {},
   "outputs": [],
   "source": [
    "#Ajustar datos de b2r2_2 con ajuste proporcional\n",
    "data_propI2 = RealData(B2R2_2, np.multiply(2,voltaje2), sx=err_sx2, sy=err_sy2)\n",
    "#make more accuarate fit\n",
    "odr_propI2 = ODR(data_propI2, prop_model, beta0=[1.6e+11])\n",
    "out_propI2 = odr_propI2.run()\n",
    "#out_propI2.pprint()\n",
    "\n",
    "#Ahora para b2r2_3\n",
    "data_propI3 = RealData(B2R2_3, np.multiply(2,voltaje3), sx=err_sx3, sy=err_sy3)\n",
    "#make more accuarate fit\n",
    "odr_propI3 = ODR(data_propI3, prop_model, beta0=[1.6e+11])\n",
    "out_propI3 = odr_propI3.run()\n",
    "#out_propI3.pprint()\n",
    "\n",
    "#b2r2_4\n",
    "data_propI4 = RealData(B2R2_4, np.multiply(2,voltaje4), sx=err_sx4, sy=err_sy4)\n",
    "#make more accuarate fit\n",
    "odr_propI4 = ODR(data_propI4, prop_model, beta0=[1.6e+11])\n",
    "out_propI4 = odr_propI4.run()\n",
    "#out_propI4.pprint()\n",
    "\n",
    "#b2r2_5\n",
    "data_propI5 = RealData(B2R2_5, np.multiply(2,voltaje5), sx=err_sx5, sy=err_sy5)\n",
    "#make more accuarate fit\n",
    "odr_propI5 = ODR(data_propI5, prop_model, beta0=[1.6e+11])\n",
    "out_propI5 = odr_propI5.run()\n",
    "#out_propI5.pprint()\n"
   ]
  },
  {
   "cell_type": "code",
   "execution_count": 19,
   "metadata": {},
   "outputs": [
    {
     "data": {
      "image/png": "[encoded data removed]",
      "text/plain": [
       "<Figure size 432x288 with 1 Axes>"
      ]
     },
     "metadata": {
      "needs_background": "light"
     },
     "output_type": "display_data"
    }
   ],
   "source": [
    "#Graficar datos de b2r2_4 con ajuste proporcional y barras de error\n",
    "plt.errorbar(B2R2_4, np.multiply(2,voltaje4), xerr=calc_errB2R2(corriente4, radios, calc_errI(corriente4), calc_errR2(radios)), yerr=calc_err2V(voltaje4), fmt='ko', ecolor='b', capsize=5, label='1.5A')\n",
    "#plot prop fit\n",
    "plt.plot(B2R2_4, out_propI4.beta[0]*B2R2_4, 'r', label='Ajuste proporcional')\n",
    "#plot linear fit\n",
    "plt.plot(B2R2_4, out4.beta[0]*B2R2_4 + out4.beta[1], 'g', label='Ajuste lineal')\n",
    "plt.grid(True)\n",
    "plt.legend()\n",
    "plt.xlabel('$B^2R^2$ ($T^{2}m^{2}$)')\n",
    "plt.ylabel('2V (V)')\n",
    "plt.show()\n"
   ]
  },
  {
   "cell_type": "code",
   "execution_count": 31,
   "metadata": {},
   "outputs": [
    {
     "data": {
      "image/png": "[encoded data removed]",
      "text/plain": [
       "<Figure size 432x288 with 1 Axes>"
      ]
     },
     "metadata": {
      "needs_background": "light"
     },
     "output_type": "display_data"
    }
   ],
   "source": [
    "#Graficar el ajuste lineal nuevo\n",
    "plt.plot(np.multiply(np.power(magnetico1,2), np.power([5/100,4/100,2/100],2)), np.multiply(2,voltaje1), 'ro')\n",
    "#plot lineal fit\n",
    "plt.plot(np.multiply(np.power(magnetico1,2), np.power([5/100,4/100,2/100],2)), linear_func(out.beta, np.multiply(np.power(magnetico1,2), np.power([5/100,4/100,2/100],2))), 'b-')\n",
    "plt.grid(True)\n",
    "#show plt legend with black box\n",
    "#plt.legend(loc='upper left', frameon=True, bbox_to_anchor=(0.02, 0.98))\n",
    "plt.xlabel('$B^2R^2$')\n",
    "plt.ylabel('2V')\n",
    "#redice plot size\n",
    "#plt.rcParams[\"figure.figsize\"] = (10,10)\n",
    "#plt.title(\"Ajuste lineal de $B^2R^2$ vs 2V\")\n",
    "#show fit data over plot with box \n",
    "plt.text(0.85e-9, 200, r'$\\frac{e}{m}$ = (2,6 $\\pm$ 0.3)* $10^{11}$' , fontsize=13,\n",
    "         bbox=dict(facecolor='cyan', alpha=0.7), color='black')\n",
    "#plt.text(1.75e-9,250, r'b = 0')\n",
    "\n",
    "plt.show()\n"
   ]
  },
  {
   "cell_type": "code",
   "execution_count": 32,
   "metadata": {},
   "outputs": [
    {
     "data": {
      "image/png": "[encoded data removed]",
      "text/plain": [
       "<Figure size 432x288 with 1 Axes>"
      ]
     },
     "metadata": {
      "needs_background": "light"
     },
     "output_type": "display_data"
    }
   ],
   "source": [
    "#plot the same graph but for magnetico2\n",
    "plt.plot(np.multiply(np.power(magnetico4,2), np.power(radios,2)), np.multiply(2,voltaje4), 'ro')\n",
    "#plot lineal fit\n",
    "plt.plot(np.multiply(np.power(magnetico4,2), np.power(radios,2)), linear_func(out.beta, np.multiply(np.power(magnetico4,2), np.power(radios,2))), 'b-')\n",
    "plt.grid(True)\n",
    "plt.text(1.5e-9,300, r'$\\frac{e}{m}$ = (2,6 $\\pm$ 0.3)$\\times10^{11}$' , fontsize=13,\n",
    "        bbox=dict(facecolor='cyan', alpha=0.7), color='black')\n",
    "#plt.text(1.75e-9,250, r'b = 0')\n",
    "plt.xlabel('$B^2R^2$')\n",
    "plt.ylabel('2V')\n",
    "plt.show()"
   ]
  },
  {
   "cell_type": "markdown",
   "metadata": {},
   "source": [
    "AHORA PARA V CONSTANTE"
   ]
  },
  {
   "cell_type": "code",
   "execution_count": 20,
   "metadata": {},
   "outputs": [],
   "source": [
    "magneticoV = np.concatenate((magnetico150, magnetico200, magnetico250, magnetico300), axis=None)\n",
    "radiosV = np.concatenate((radios, radios, radios, radios), axis=None)\n",
    "voltajeV = np.concatenate((voltaje150, voltaje200, voltaje250, voltaje300), axis=None)\n",
    "#Calcular R^2  \n",
    "radios2 = np.power(radiosV,2)\n",
    "#Calcular B^2\n",
    "magnetico2 = np.power(magneticoV,2)\n",
    "#Dividir 2V/B^2\n",
    "y_voltaje = np.divide(np.multiply(2,voltajeV), magnetico2)\n"
   ]
  },
  {
   "cell_type": "code",
   "execution_count": 21,
   "metadata": {},
   "outputs": [],
   "source": [
    "#Data para ajustar de una sola serie de datos de voltaje constante\n",
    "R2 = np.power(radios,2)\n",
    "V_B2 = np.divide(np.multiply(2,voltaje150), np.power(magnetico150,2))\n",
    "V_B22= np.divide(np.multiply(2,voltaje200), np.power(magnetico200,2))\n",
    "V_B23 = np.divide(np.multiply(2,voltaje250), np.power(magnetico250,2))\n",
    "V_B24 = np.divide(np.multiply(2,voltaje300), np.power(magnetico300,2))"
   ]
  },
  {
   "cell_type": "code",
   "execution_count": 22,
   "metadata": {},
   "outputs": [
    {
     "name": "stdout",
     "output_type": "stream",
     "text": [
      "Beta: [ 2.09618989e+11 -6.39126247e+06]\n",
      "Beta Std Error: [1.80996711e+09 1.94128107e+06]\n",
      "Beta Covariance: [[ 3.68930740e+20 -3.16273986e+17]\n",
      " [-3.16273986e+17  4.24404825e+14]]\n",
      "Residual Variance: 0.008879663839345875\n",
      "Inverse Condition #: 0.006431328180790352\n",
      "Reason(s) for Halting:\n",
      "  Sum of squares convergence\n",
      " AJUSTE LINEAR ARRIBA, PROPORCIONAL ABAJO\n",
      "Beta: [2.04917067e+11]\n",
      "Beta Std Error: [2.24417634e+09]\n",
      "Beta Covariance: [[1.27535531e+20]]\n",
      "Residual Variance: 0.03948960283290892\n",
      "Inverse Condition #: 1.0\n",
      "Reason(s) for Halting:\n",
      "  Sum of squares convergence\n"
     ]
    }
   ],
   "source": [
    "#Ajuste lineal con ODR\n",
    "linear_model_voltaje = Model(linear_func)\n",
    "data_voltaje = RealData(R2, V_B2, sx=calc_errR2(radios), sy=calc_err2V_B2(corriente150, voltaje150, calc_errI(corriente150), np.divide(calc_err2V(voltaje150),2)))\n",
    "data_voltaje200 = RealData(R2, V_B22, sx=calc_errR2(radios), sy=calc_err2V_B2(corriente200, voltaje200, calc_errI(corriente200), np.divide(calc_err2V(voltaje200),2)))\n",
    "data_voltaje250 = RealData(R2, V_B23, sx=calc_errR2(radios), sy=calc_err2V_B2(corriente250, voltaje250, calc_errI(corriente250), np.divide(calc_err2V(voltaje250),2)))\n",
    "data_voltaje300 = RealData(R2, V_B24, sx=calc_errR2(radios), sy=calc_err2V_B2(corriente300, voltaje300, calc_errI(corriente300), np.divide(calc_err2V(voltaje300),2)))\n",
    "\n",
    "\n",
    "\n",
    "\n",
    "odr_voltaje = ODR(data_voltaje300, linear_model_voltaje, beta0=[1.8e+11, 0])\n",
    "odr_voltaje.set_job(fit_type=0)\n",
    "out_voltaje = odr_voltaje.run()\n",
    "out_voltaje.pprint()\n",
    "print(\" AJUSTE LINEAR ARRIBA, PROPORCIONAL ABAJO\")\n",
    "\n",
    "#Ajuste proporcional\n",
    "def prop_func(p, x):\n",
    "    m = p\n",
    "    return m*x\n",
    "\n",
    "prop_model = Model(prop_func)\n",
    "#data_prop = RealData(radios2, y_voltaje, sx=err_R2)\n",
    "odr_prop = ODR(data_voltaje300, prop_model, beta0=[1.6e+11])\n",
    "out_prop = odr_prop.run()\n",
    "out_prop.pprint()\n",
    "\n"
   ]
  },
  {
   "cell_type": "code",
   "execution_count": 23,
   "metadata": {},
   "outputs": [
    {
     "name": "stdout",
     "output_type": "stream",
     "text": [
      "Beta: [2.04917067e+11]\n",
      "Beta Std Error: [2.24417634e+09]\n",
      "Beta Covariance: [[1.27535531e+20]]\n",
      "Residual Variance: 0.03948960283290892\n",
      "Inverse Condition #: 1.0\n",
      "Reason(s) for Halting:\n",
      "  Sum of squares convergence\n"
     ]
    }
   ],
   "source": [
    "#Ajustar los datos para voltaje 200, 250 y 300 con ajuste proporcional\n",
    "data_voltaje200= RealData(R2, V_B22, sx=calc_errR2(radios), sy=calc_err2V_B2(corriente200, voltaje200, calc_errI(corriente200), np.divide(calc_err2V(voltaje200),2)))\n",
    "odr_prop200 = ODR(data_voltaje200, prop_model, beta0=[1.6e+11])\n",
    "out_prop200 = odr_prop200.run()\n",
    "#out_prop200.pprint()\n",
    "\n",
    "data_voltaje250= RealData(R2, V_B23, sx=calc_errR2(radios), sy=calc_err2V_B2(corriente250, voltaje250, calc_errI(corriente250), np.divide(calc_err2V(voltaje250),2)))\n",
    "odr_prop250 = ODR(data_voltaje250, prop_model, beta0=[1.6e+11])\n",
    "out_prop250 = odr_prop250.run()\n",
    "#out_prop250.pprint()\n",
    "\n",
    "data_voltaje300 = RealData(R2, V_B24, sx=calc_errR2(radios), sy=calc_err2V_B2(corriente300, voltaje300, calc_errI(corriente300), np.divide(calc_err2V(voltaje300),2)))\n",
    "odr_prop300 = ODR(data_voltaje300, prop_model, beta0=[1.6e+11])\n",
    "out_prop300 = odr_prop300.run()\n",
    "out_prop300.pprint()\n"
   ]
  },
  {
   "cell_type": "code",
   "execution_count": 24,
   "metadata": {},
   "outputs": [
    {
     "data": {
      "image/png": "[encoded data removed]",
      "text/plain": [
       "<Figure size 432x288 with 1 Axes>"
      ]
     },
     "metadata": {
      "needs_background": "light"
     },
     "output_type": "display_data"
    }
   ],
   "source": [
    "#Graficar solo los datos de la serie magnetico150\n",
    "plt.errorbar(R2, V_B2, xerr=calc_errR2(radios), yerr=calc_err2V_B2(corriente150, voltaje150, calc_errI(corriente150), np.divide(calc_err2V(voltaje150),2)), fmt='ko', ecolor='b', capsize=5, label='150V')\n",
    "#plot prop fit\n",
    "#plt.plot(R2, out_voltaje.beta[0]*R2 + out_voltaje.beta[1], 'r-', label='Ajuste Lineal')\n",
    "#plot prop fit\n",
    "plt.plot(R2, out_prop.beta[0]*R2, 'r-', label='Ajuste Proporcional')\n",
    "plt.grid(True)\n",
    "#plt.text(0.00125, 2e+8, r'$\\frac{e}{m}$ = (2.2 $\\pm$ 0.1)$\\times10^{11}$' , fontsize=13,\n",
    "  #      bbox=dict(facecolor='cyan', alpha=0.7), color='black')\n",
    "plt.xlabel('$R^2$ $(m^2)$')\n",
    "plt.ylabel(r'$\\frac{2V}{B^2}$ ($\\frac{V}{T^{2}}$)')\n",
    "plt.legend()\n",
    "plt.show()\n"
   ]
  },
  {
   "cell_type": "code",
   "execution_count": 25,
   "metadata": {},
   "outputs": [
    {
     "data": {
      "image/png": "[encoded data removed]",
      "text/plain": [
       "<Figure size 432x288 with 1 Axes>"
      ]
     },
     "metadata": {
      "needs_background": "light"
     },
     "output_type": "display_data"
    }
   ],
   "source": [
    "#Graficar los datos de la serie magnetico200\n",
    "plt.errorbar(R2, V_B22, xerr=calc_errR2(radios), yerr=calc_err2V_B2(corriente200, voltaje200, calc_errI(corriente200), np.divide(calc_err2V(voltaje200),2)), fmt='ko', ecolor='b', capsize=5, label='200V')\n",
    "#plot prop fit\n",
    "#plt.plot(R2, out_voltaje.beta[0]*R2 + out_voltaje.beta[1], 'r-', label='Ajuste Lineal')\n",
    "#plot prop fit\n",
    "plt.plot(R2, out_prop200.beta[0]*R2, 'r-', label='Ajuste Proporcional')\n",
    "plt.grid(True)\n",
    "#plt.text(0.00125, 2e+8, r'$\\frac{e}{m}$ = (2.2 $\\pm$ 0.1)$\\times10^{11}$' , fontsize=13,\n",
    "    \n",
    "plt.xlabel('$R^2$ $(m^2)$')\n",
    "plt.ylabel(r'$\\frac{2V}{B^2}$ ($\\frac{V}{T^{2}}$)')\n",
    "plt.legend()\n",
    "plt.show()\n"
   ]
  },
  {
   "cell_type": "code",
   "execution_count": null,
   "metadata": {},
   "outputs": [
    {
     "data": {
      "image/png": "[encoded data removed]",
      "text/plain": [
       "<Figure size 432x288 with 1 Axes>"
      ]
     },
     "metadata": {
      "needs_background": "light"
     },
     "output_type": "display_data"
    }
   ],
   "source": [
    "#Graficar el ajuste lineal nuevo - Se ve super feo \n",
    "plt.plot(radios2, y_voltaje, 'ro')\n",
    "#plot proporcional fit\n",
    "plt.plot(radios2, prop_func(out_prop.beta, radios2), 'b-')\n",
    "plt.grid(True)\n",
    "#plt.text(1.5e-9,300, r'$\\frac{e}{m}$ = (1,7 $\\pm$ 0.1)$\\times10^{11}$' , fontsize=13,\n",
    "#        bbox=dict(facecolor='blue', alpha=0.7), color='black')\n",
    "plt.xlabel('$R^2$')\n",
    "plt.ylabel(r'$\\frac{2V}{B^2}$')\n",
    "plt.show()\n"
   ]
  }
 ],
 "metadata": {
  "kernelspec": {
   "display_name": "Python 3",
   "language": "python",
   "name": "python3"
  },
  "language_info": {
   "codemirror_mode": {
    "name": "ipython",
    "version": 3
   },
   "file_extension": ".py",
   "mimetype": "text/x-python",
   "name": "python",
   "nbconvert_exporter": "python",
   "pygments_lexer": "ipython3",
   "version": "3.9.0"
  },
  "orig_nbformat": 4
 },
 "nbformat": 4,
 "nbformat_minor": 2
}
